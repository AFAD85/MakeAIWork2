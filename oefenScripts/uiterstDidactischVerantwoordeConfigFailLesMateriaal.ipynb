{
 "cells": [
  {
   "cell_type": "code",
   "execution_count": 1,
   "metadata": {},
   "outputs": [],
   "source": [
    "from configparser import ConfigParser\n",
    "\n",
    "# Hallo allemaal! Ons Jeroen heeft mij gevraagd om even in de Jconfig library te duiken,\n",
    "# Uiteraard heb ik dus iets anders gedaan, namelijk de configparser library...\n",
    "\n",
    "# we beginnen met de ConfigParser klasse te importeren\n",
    "\n",
    "# Hiermee kunnen we een config bestandje maken yay!\n",
    "\n",
    "# Een config bestand is in principe een dictionary met Keys en Values zoals we die al kennen. \n",
    "\n",
    "# We kunnen dus op dezelfde manier als dat we een dictionary maken (maar niet helemaaaaal hetzeflde) een config file maken.\n",
    "\n",
    "# Letsaaa goooo!"
   ]
  },
  {
   "cell_type": "code",
   "execution_count": 3,
   "metadata": {},
   "outputs": [],
   "source": [
    "# we maken een object uit de ConfigParser (onze config)\n",
    "\n",
    "config = ConfigParser()\n",
    "\n",
    "# Nice! We zijn al goed op weg!\n",
    "\n",
    "# We gaan nu onze dictionary vullen met 'nuttige' zaken\n",
    "# In de DEFAULT komen de values die we standaard inladen, \n",
    "# In de andere komen values die we enkel inladen als we de betreffende config selecteren\n",
    "# Selecteren we een andere dan worden de default waardes die in de andere staan OVER degene in de DEFAULT geschreven,\n",
    "# De waardes die enkel in de DEFAULT staan blijven dus zoals ze zijn. \n",
    "config[\"DEFAULT\"] = {\n",
    "    \"username\": 'default',\n",
    "    \"password\": 'blah',\n",
    "    \"WelkomsBoodschap\": 'Hello Cohort1!',\n",
    "    \"Host\": '127.0.0.1',\n",
    "    \"Model\": 'DefaultModel'\n",
    "}\n",
    "\n",
    "\n",
    "config[\"Amad69\"] = {\n",
    "    \"username\": 'Amad69',\n",
    "    \"password\": 'RijbewijsYes15112022',\n",
    "    \"WelkomsBoodschap\": 'Yo, sup!',\n",
    "    \"Model\": 'ModelAmad69'\n",
    "}\n",
    "\n",
    "config[\"AntonSoixanteNeuf\"] = {\n",
    "    \"username\": 'AntonSoixanteNeuf',\n",
    "    \"password\": 'RUSTAAAGH123',\n",
    "    \"WelkomsBoodschap\": 'JAAAAAAAA CONFIG FAAIHLS!',\n",
    "    \"Model\": 'ModelAntonSoixanteNeuf'\n",
    "    }\n",
    "\n",
    "# Kijk ons eens ff bezig zijn ! Een vet coole config file, met de default en 2 te selecteren configs (model Amad69 en AntonSoixanteNeuf)\n",
    "# Het is net magie, dus vooraf laat ik jullie even zien dat er geen config (ini) bestanden staan in mijn MIW 2 map\n",
    "# # Laten we deze maar gaan opslaan, want dit willen we echt niet kwijtraken!\n",
    "# Dat doen we als volgt:\n",
    "with open(\"appel_config.ini\", \"w\") as f:\n",
    "    config.write(f)\n",
    "    \n",
    "# we noemen het bestand appel_config.ini, we geven aan dat deze geschreven moet worden (write/ \"w\") \n",
    "# en dan een f en ik weet niet waarom we die f doen... moest van de tutorial zegmaar... Jeroen?"
   ]
  },
  {
   "cell_type": "code",
   "execution_count": null,
   "metadata": {},
   "outputs": [],
   "source": [
    "\n"
   ]
  }
 ],
 "metadata": {
  "kernelspec": {
   "display_name": "Python 3.11.0 ('env': venv)",
   "language": "python",
   "name": "python3"
  },
  "language_info": {
   "codemirror_mode": {
    "name": "ipython",
    "version": 3
   },
   "file_extension": ".py",
   "mimetype": "text/x-python",
   "name": "python",
   "nbconvert_exporter": "python",
   "pygments_lexer": "ipython3",
   "version": "3.11.0"
  },
  "orig_nbformat": 4,
  "vscode": {
   "interpreter": {
    "hash": "343175793893d94ad600fed4205d39857cd4175d02ecc054914f6e7a2056793d"
   }
  }
 },
 "nbformat": 4,
 "nbformat_minor": 2
}
