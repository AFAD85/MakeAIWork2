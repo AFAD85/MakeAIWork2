{
 "cells": [
  {
   "cell_type": "markdown",
   "metadata": {},
   "source": [
    "Data augmentatie: \n",
    "\n",
    "Vragen: \n",
    "    -   Maakt het uit hoeveel data er wordt aangeboden per categorie?\n",
    "    -   Zijn er onder de vele vormen van data augmentatie methodes die beter danwel slechter zijn \n",
    "    -   Kunnen we adhv de bovenstaande vraag iets zeggen over de 'ideale' spreiding van vormen van augmentatie (dus bijvoorbeeld met roteren en wat zoomen hebben we eigenlijk alles er al uitgehaald)\n",
    "    -   Indien de tijd dit toelaat: verschilt dit ook nog per model (eigen ontwerp vs mobilenet bijv.)\n",
    "\n",
    "\n",
    "Data verdeeld in 4 klassen eindoel is 1000 per klasse om op te trainen,\n",
    "Huidige traindataset = \n",
    "    gezond : 67\n",
    "    blotch : 116\n",
    "    scab : 85\n",
    "    rot : 114\n",
    "Huidige Testdataset = \n",
    "    gezond : 24\n",
    "    blotch : 30\n",
    "    scab : 28\n",
    "    rot : 38"
   ]
  },
  {
   "cell_type": "code",
   "execution_count": null,
   "metadata": {},
   "outputs": [],
   "source": []
  },
  {
   "cell_type": "markdown",
   "metadata": {},
   "source": [
    "Achtste slag draaien voor elke foto "
   ]
  },
  {
   "cell_type": "code",
   "execution_count": 25,
   "metadata": {},
   "outputs": [],
   "source": [
    "from pathlib import Path\n",
    "import cv2\n",
    "import numpy as np\n",
    "\n",
    "\n",
    "trainDataDirBlotch = Path('C:/Users/Anton/MakeAIWork2/projects/apple_disease_classification/data/Train/Blotch_Apple')\n",
    "trainDataDirNormal = Path('C:/Users/Anton/MakeAIWork2/projects/apple_disease_classification/data/Train/Normal_Apple')\n",
    "trainDataDirRot = Path('C:/Users/Anton/MakeAIWork2/projects/apple_disease_classification/data/Train/Rot_Apple')\n",
    "trainDataDirScab = Path('C:/Users/Anton/MakeAIWork2/projects/apple_disease_classification/data/Train/Scab_Apple')\n",
    "dataDirs = [trainDataDirBlotch, trainDataDirNormal, trainDataDirRot, trainDataDirScab]\n",
    "\n",
    "augmentType = 'rotated45'\n",
    "\n",
    "for dir in dataDirs:\n",
    "    count = 1\n",
    "    for file in dir.glob('*.*'):\n",
    "        #bestands object omzetten naar string\n",
    "        fileString = str(file)\n",
    "        img = cv2.imread(fileString)\n",
    "        (rows, cols) = img.shape[:2]\n",
    "        M = cv2.getRotationMatrix2D((cols / 2, rows / 2), 45, 1)\n",
    "        res = cv2.warpAffine(img, M, (cols, rows))\n",
    "        countStr = str(count)\n",
    "        count += 1\n",
    "        fileType = file.suffix\n",
    "        fileDir = file.parts[-2]\n",
    "        filePath = file.parent\n",
    "        newFilePath = file.parent / augmentType\n",
    "        fileNameNew = f'{filePath}\\{augmentType}\\{fileDir}_{countStr.zfill(4)}_{augmentType}{fileType}'\n",
    "        targetDir = Path(f'{filePath}\\{augmentType}')\n",
    "        if not targetDir.exists():\n",
    "            targetDir.mkdir()\n",
    "        fileNameNewString = str(fileNameNew)\n",
    "        #print(\"filenamenew :  \" ,fileNameNewString)\n",
    "        cv2.imwrite(fileNameNewString, res)\n",
    "\n",
    "\n",
    "\n",
    "\n",
    "# FILE_NAME = \"C:/Users/Anton/MakeAIWork2/projects/apple_disease_classification/data/Train/Blotch_Apple/Blotch_Apple_0001.jpg\"\n",
    "# try:\n",
    "# # Read image from the disk.\n",
    "#     img = cv2.imread(FILE_NAME)\n",
    "\n",
    "# # Shape of image in terms of pixels.\n",
    "#     (rows, cols) = img.shape[:2]\n",
    "\n",
    "# # getRotationMatrix2D creates a matrix needed for transformation.\n",
    "# # We want matrix for rotation w.r.t center to 45 degree without scaling.\n",
    "#     M = cv2.getRotationMatrix2D((cols / 2, rows / 2), 45, 1)\n",
    "#     res = cv2.warpAffine(img, M, (cols, rows))\n",
    "\n",
    "# # Write image back to disk. Pad is nu oefenscripts (notebook locatie)\n",
    "#     cv2.imwrite(\"C:/Users/Anton/MakeAIWork2/projects/apple_disease_classification/data/Train/Blotch_Apple/rotated/Blotch_Apple_0001.jpg\", res)\n",
    "# except IOError:\n",
    "#     print ('Error while reading files !!!')\n",
    "    \n"
   ]
  },
  {
   "cell_type": "code",
   "execution_count": null,
   "metadata": {},
   "outputs": [],
   "source": []
  },
  {
   "cell_type": "markdown",
   "metadata": {},
   "source": [
    "ooooofff 4x per foto en dan random rotatie toepassen... of nog meer keer"
   ]
  },
  {
   "cell_type": "code",
   "execution_count": null,
   "metadata": {},
   "outputs": [],
   "source": []
  },
  {
   "cell_type": "markdown",
   "metadata": {},
   "source": [
    "verticale spiegeling => aantal x1"
   ]
  },
  {
   "cell_type": "code",
   "execution_count": null,
   "metadata": {},
   "outputs": [],
   "source": []
  },
  {
   "cell_type": "markdown",
   "metadata": {},
   "source": [
    "Grijsschaal versie v/d foto => aantal x1\n",
    "    Dit is gewoon de (x,y,z) z dimensie van 3 naar 1 veranderen (delen duuuuhsch)"
   ]
  },
  {
   "cell_type": "code",
   "execution_count": null,
   "metadata": {},
   "outputs": [],
   "source": []
  },
  {
   "cell_type": "markdown",
   "metadata": {},
   "source": [
    "Poster kleuren (elementair) => aantal x1"
   ]
  },
  {
   "cell_type": "code",
   "execution_count": null,
   "metadata": {},
   "outputs": [],
   "source": []
  },
  {
   "cell_type": "markdown",
   "metadata": {},
   "source": [
    "Duo tone (van pinetools, bulk versies) aantal x1\n"
   ]
  },
  {
   "cell_type": "code",
   "execution_count": null,
   "metadata": {},
   "outputs": [],
   "source": []
  },
  {
   "cell_type": "markdown",
   "metadata": {},
   "source": [
    "tri/quad tone?"
   ]
  },
  {
   "cell_type": "code",
   "execution_count": null,
   "metadata": {},
   "outputs": [],
   "source": [
    "# https://imgaug.readthedocs.io/en/latest/source/overview/color.html#kmeanscolorquantization\n"
   ]
  },
  {
   "cell_type": "code",
   "execution_count": 37,
   "metadata": {},
   "outputs": [
    {
     "data": {
      "text/plain": [
       "[7]"
      ]
     },
     "execution_count": 37,
     "metadata": {},
     "output_type": "execute_result"
    }
   ],
   "source": [
    "import random\n",
    "txtFilesSel = []\n",
    "#imgObjectSel = np.empty(),\n",
    "\n",
    "blah = [0,1,2,3,4,5,6,7,8,9]\n",
    "\n",
    "\n",
    "random.sample(sorted(blah),1)\n",
    "\n",
    "# indexRanges = [(0,888),(888,1360),(1360,2272),(2272,2949)]\n",
    "# print(indexRanges[0])\n",
    "\n",
    "# random.sample(indexRanges, 1, 1)\n",
    "\n",
    "# for indexR in indexRanges:\n",
    "#     randomIndex = random.sample(10,10,470)\n",
    "#     txtFilesSel.append(txtFiles[randomIndex])\n",
    "#     imgObjectSel.append(imgObjects[randomIndex])\n",
    "#     print(randomIndex)\n",
    "\n",
    "# for number in range(470):\n",
    "#     txtFilesSel.append(txtFiles[random.choice(range(888,))])\n",
    "#     imgObjectSel.append(imageObjects[random.choice(range(888,888))])\n",
    "    \n",
    "\n",
    "# for number in range(470):\n",
    "#     txtFilesSel.append(txtFiles[random.choice(range(0,888))])\n",
    "    \n",
    "\n",
    "# for number in range(470):\n",
    "#     txtFilesSel.append(txtFiles[random.choice(range(0,888))])\n"
   ]
  },
  {
   "cell_type": "code",
   "execution_count": null,
   "metadata": {},
   "outputs": [],
   "source": [
    "for occurance in lijstmetlabels:\n",
    "    "
   ]
  },
  {
   "cell_type": "markdown",
   "metadata": {},
   "source": [
    "Saturation?"
   ]
  },
  {
   "cell_type": "markdown",
   "metadata": {},
   "source": [
    "\n",
    "Poster?"
   ]
  },
  {
   "cell_type": "markdown",
   "metadata": {},
   "source": [
    "K-means\n",
    "https://imgaug.readthedocs.io/en/latest/source/overview/color.html#kmeanscolorquantization"
   ]
  },
  {
   "cell_type": "code",
   "execution_count": null,
   "metadata": {},
   "outputs": [],
   "source": []
  },
  {
   "cell_type": "markdown",
   "metadata": {},
   "source": [
    "Erosion / dilation"
   ]
  },
  {
   "cell_type": "code",
   "execution_count": null,
   "metadata": {},
   "outputs": [],
   "source": []
  },
  {
   "cell_type": "markdown",
   "metadata": {},
   "source": [
    "Edge Detection"
   ]
  },
  {
   "cell_type": "code",
   "execution_count": null,
   "metadata": {},
   "outputs": [],
   "source": []
  },
  {
   "cell_type": "code",
   "execution_count": null,
   "metadata": {},
   "outputs": [],
   "source": []
  },
  {
   "cell_type": "code",
   "execution_count": null,
   "metadata": {},
   "outputs": [],
   "source": []
  },
  {
   "cell_type": "code",
   "execution_count": null,
   "metadata": {},
   "outputs": [],
   "source": []
  },
  {
   "cell_type": "code",
   "execution_count": null,
   "metadata": {},
   "outputs": [],
   "source": []
  },
  {
   "cell_type": "code",
   "execution_count": null,
   "metadata": {},
   "outputs": [],
   "source": []
  },
  {
   "cell_type": "code",
   "execution_count": null,
   "metadata": {},
   "outputs": [],
   "source": []
  }
 ],
 "metadata": {
  "kernelspec": {
   "display_name": "Python 3.9.13 ('base')",
   "language": "python",
   "name": "python3"
  },
  "language_info": {
   "codemirror_mode": {
    "name": "ipython",
    "version": 3
   },
   "file_extension": ".py",
   "mimetype": "text/x-python",
   "name": "python",
   "nbconvert_exporter": "python",
   "pygments_lexer": "ipython3",
   "version": "3.9.13"
  },
  "orig_nbformat": 4,
  "vscode": {
   "interpreter": {
    "hash": "ad2bdc8ecc057115af97d19610ffacc2b4e99fae6737bb82f5d7fb13d2f2c186"
   }
  }
 },
 "nbformat": 4,
 "nbformat_minor": 2
}
