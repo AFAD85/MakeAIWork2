{
 "cells": [
  {
   "cell_type": "code",
   "execution_count": null,
   "metadata": {},
   "outputs": [],
   "source": [
    "import pathlib\n",
    "form pathlib import Path\n",
    "\n",
    "# set path to files\n",
    "p = Path('e:/PythonProjects/stack_overflow/photos/')\n",
    "\n",
    "# get all files in subdirectories with a tiff extension\n",
    "files = list(p.rglob('*.tiff'))\n",
    "\n",
    "# print files example\n",
    "[WindowsPath('e:/PythonProjects/stack_overflow/photos/test1/test.tiff'), WindowsPath('e:/PythonProjects/stack_overflow/photos/test2/test.tiff')]\n",
    "\n",
    "# iterate through files\n",
    "for file in files:\n",
    "    file_path = file.parent  # get only path\n",
    "    dir_name = file.parent.stem  # get the directory name\n",
    "    file_name = file.stem  # get the file name\n",
    "    suffix = file.suffix  # get the file extension\n",
    "    file_name_new = f'{dir_name}_{file_name}{suffix}'  # make the new file name\n",
    "    file.rename(file_path / file_name_new)  # rename the file\n",
    "\n",
    "\n",
    "# output files renamed\n",
    "[WindowsPath('e:/PythonProjects/stack_overflow/photos/test1/test1_test.tiff'), WindowsPath('e:/PythonProjects/stack_overflow/photos/test2/test2_test.tiff')]"
   ]
  }
 ],
 "metadata": {
  "kernelspec": {
   "display_name": "Python 3.10.6 ('env': venv)",
   "language": "python",
   "name": "python3"
  },
  "language_info": {
   "name": "python",
   "version": "3.10.6"
  },
  "orig_nbformat": 4,
  "vscode": {
   "interpreter": {
    "hash": "343175793893d94ad600fed4205d39857cd4175d02ecc054914f6e7a2056793d"
   }
  }
 },
 "nbformat": 4,
 "nbformat_minor": 2
}
