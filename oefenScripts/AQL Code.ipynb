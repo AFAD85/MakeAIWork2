{
 "cells": [
  {
   "cell_type": "markdown",
   "metadata": {},
   "source": [
    "AQL Code\n"
   ]
  },
  {
   "cell_type": "code",
   "execution_count": 43,
   "metadata": {},
   "outputs": [],
   "source": [
    "import pandas as pd"
   ]
  },
  {
   "cell_type": "code",
   "execution_count": 13,
   "metadata": {},
   "outputs": [
    {
     "name": "stdout",
     "output_type": "stream",
     "text": [
      "Lot AQL class 1 : sample of 20 apples contained 20healthy apples and 0 sick apples\n",
      "AQL class : 1\n",
      "Lot AQL class 2 : sample of 20 apples contained 19healthy apples and 1 sick apples\n",
      "AQL class : 2\n",
      "Lot AQL class 3 : sample of 20 apples contained 18healthy apples and 2 sick apples\n",
      "AQL class : 3\n",
      "Lot AQL class 3 : sample of 20 apples contained 17healthy apples and 3 sick apples\n",
      "AQL class : 3\n",
      "Lot AQL class 3 : sample of 20 apples contained 16healthy apples and 4 sick apples\n",
      "AQL class : 4 (rejected)\n",
      "Lot AQL class 3 : sample of 20 apples contained 0healthy apples and 20 sick apples\n",
      "AQL class : 4 (rejected)\n"
     ]
    }
   ],
   "source": [
    "# functie die het aantal gezonde appels uit de batch haalt \n",
    "# en vervolgens met de batch size en het aantal gezonde uit de AQL.csv database de score kan vinden\n",
    "\n",
    "\n",
    "def scoreAQL(batch):\n",
    "    batch_size_options = [5,8,20,32,80,200,315]\n",
    "    aql_classes = [[0,0,0,0,0,2,3,5,7,10,14],[0,0,1,2,5,10,14,21],[0,1,3,5,10,21,21]]\n",
    "    batch_size = len(batch)\n",
    "    batch_index = batch_size_options.index(batch_size)\n",
    "    batch_aql_class = ''\n",
    "\n",
    "    # Images other than normal\n",
    "    sick_in_batch_size = 0\n",
    " \n",
    "    for apple in batch:\n",
    "       # print(apple)\n",
    "        if apple != 'h':\n",
    "            sick_in_batch_size += 1\n",
    "         #  print(sick_in_batch_size)\n",
    "            \n",
    "    for aqlClass in aql_classes:\n",
    "        #print(aqlClass)\n",
    "        batch_aql_class = 'AQL class : 4 (rejected)'\n",
    "        \n",
    "        if sick_in_batch_size <= aqlClass[batch_index]:\n",
    "            \n",
    "            batch_aql_class = (f'AQL class : {aql_classes.index(aqlClass)+1}')\n",
    "            break\n",
    "            #print(batch_aql_class)\n",
    "    print(f'Lot AQL class {aql_classes.index(aqlClass)+1} : sample of {batch_size} apples contained {batch_size -sick_in_batch_size}healthy apples and {sick_in_batch_size} sick apples')\n",
    "    return batch_aql_class\n",
    "\n",
    " \n",
    "taco0 = ['h','h','h','h','h','h','h','h','h','h','h','h','h','h','h','h','h','h','h','h'] \n",
    "taco1 = ['h','h','h','h','h','h','h','h','h','h','h','h','h','h','h','h','h','h','h','s']   \n",
    "taco2 = ['h','h','h','h','h','h','h','h','h','h','h','h','h','h','h','h','h','h','s','s']  \n",
    "taco3 = ['h','h','h','h','h','h','h','h','h','h','h','h','h','h','h','h','h','s','s','s']   \n",
    "taco4 = ['h','h','h','h','h','h','h','h','h','h','h','h','h','h','h','h','s','s','s','s'] \n",
    "taco5 = ['s','s','s','s','s','s','s','s','s','s','s','s','s','s','s','s','s','s','s','s'] \n",
    "  \n",
    "\n",
    "\n",
    "print(scoreAQL(taco0))\n",
    "print(scoreAQL(taco1))\n",
    "print(scoreAQL(taco2))\n",
    "print(scoreAQL(taco3))\n",
    "print(scoreAQL(taco4))\n",
    "print(scoreAQL(taco5))\n",
    "    \n",
    "    # if #batch_size overeenkomt met een waarde uit batch_size_options:\n",
    "    #     if sick_in_batch >= aql_classes[0][batch_index]:\n",
    "    #         print(f'Lot AQL class 1 : sample of {batch_size} apples contained {batch_size - sick_in_batch}healthy apples and {sick_in_batch} sick apples')\n",
    "    #         batch_aql_class = 'AQL class : 1'\n",
    "    #         return batch_aql_class\n",
    "    #     elif sick_in_batch >= aql_classes[1][batch_index]:\n",
    "    #         print(f'Lot AQL class 2 : sample of {batch_size} apples contained {batch_size - sick_in_batch}healthy apples and {sick_in_batch} sick apples')\n",
    "    #         batch_aql_class = 'AQL class : 2'\n",
    "    #         return batch_aql_class\n",
    "    #     elif sick_in_batch >= aql_classes[2][batch_index]:\n",
    "    #         print(f'Lot AQL class 3 : sample of {batch_size} apples contained {batch_size - sick_in_batch}healthy apples and {sick_in_batch} sick apples')\n",
    "    #         batch_aql_class = 'AQL class : 3'\n",
    "    #         return batch_aql_class\n",
    "    #     else:\n",
    "    #         print('Lot is rejected, apple quality is too low')\n",
    "    #         batch_aql_class = 'AQL class : rejected'\n",
    "    #         return batch_aql_class\n",
    "    # else:\n",
    "    #     print(\"AQL score can only be given for samples of the following sizes : 5,8,20,32,80,200,315\")\n",
    "       \n",
    "\n"
   ]
  },
  {
   "cell_type": "code",
   "execution_count": 2,
   "metadata": {},
   "outputs": [
    {
     "name": "stdout",
     "output_type": "stream",
     "text": [
      "0\n",
      "1\n"
     ]
    }
   ],
   "source": [
    "print(ord('A')%65)\n",
    "print(ord('B')%65)\n",
    "\n"
   ]
  },
  {
   "cell_type": "code",
   "execution_count": 46,
   "metadata": {},
   "outputs": [
    {
     "data": {
      "text/plain": [
       "'\\nAQL Database\\n\\nBatch Size  | klasse 1  | klasse 2  | klasse 3  | klasse 4 \\n5           |    5      |   5       |     4     |   <4\\n8           |    8      |   8       |     7     |   <7\\n20          |    20     |   19      |     17    |   <17\\n32          |    32     |   30      |     27    |   <27\\n80          |    79     |   75      |     70    |   <70\\n200         |    198    |   190     |     179   |   <179\\n315         |    312    |   301     |     294   |   <294\\n\\n\\n\\n            5       8       20      32      80      200     315       \\nKlasse 1    5       8       20      32      79      198     312\\nKlasse 2    5       8       19      30      75      190     301\\nKlasse 3    4       7       17      27      70      179     294\\nKlasse 4    <4      <7      <17     <27     <70     <179    <294\\n\\n'"
      ]
     },
     "execution_count": 46,
     "metadata": {},
     "output_type": "execute_result"
    }
   ],
   "source": [
    "\"\"\"\n",
    "AQL Database\n",
    "\n",
    "Batch Size  | klasse 1  | klasse 2  | klasse 3  | klasse 4 \n",
    "5           |    5      |   5       |     4     |   <4\n",
    "8           |    8      |   8       |     7     |   <7\n",
    "20          |    20     |   19      |     17    |   <17\n",
    "32          |    32     |   30      |     27    |   <27\n",
    "80          |    79     |   75      |     70    |   <70\n",
    "200         |    198    |   190     |     179   |   <179\n",
    "315         |    312    |   301     |     294   |   <294\n",
    "\n",
    "\n",
    "\n",
    "            5       8       20      32      80      200     315       \n",
    "Klasse 1    5       8       20      32      79      198     312\n",
    "Klasse 2    5       8       19      30      75      190     301\n",
    "Klasse 3    4       7       17      27      70      179     294\n",
    "Klasse 4    <4      <7      <17     <27     <70     <179    <294\n",
    "\n",
    "\"\"\""
   ]
  },
  {
   "cell_type": "code",
   "execution_count": 47,
   "metadata": {},
   "outputs": [
    {
     "ename": "NameError",
     "evalue": "name 'planetDataFrame' is not defined",
     "output_type": "error",
     "traceback": [
      "\u001b[1;31m---------------------------------------------------------------------------\u001b[0m",
      "\u001b[1;31mNameError\u001b[0m                                 Traceback (most recent call last)",
      "Cell \u001b[1;32mIn [47], line 2\u001b[0m\n\u001b[0;32m      1\u001b[0m \u001b[39mfor\u001b[39;00m x \u001b[39min\u001b[39;00m \u001b[39mrange\u001b[39m(\u001b[39m8\u001b[39m):\n\u001b[1;32m----> 2\u001b[0m     planet \u001b[39m=\u001b[39m planetDataFrame\u001b[39m.\u001b[39miloc[x,\u001b[39m11\u001b[39m]\n\u001b[0;32m      3\u001b[0m     factor \u001b[39m=\u001b[39m planetDataFrame\u001b[39m.\u001b[39miloc[x,\u001b[39m10\u001b[39m]\n\u001b[0;32m      4\u001b[0m     planetImage \u001b[39m=\u001b[39m Image\u001b[39m.\u001b[39mopen(\u001b[39mf\u001b[39m\u001b[39m\"\u001b[39m\u001b[39mpics/\u001b[39m\u001b[39m{\u001b[39;00mplanet\u001b[39m}\u001b[39;00m\u001b[39m\"\u001b[39m)\n",
      "\u001b[1;31mNameError\u001b[0m: name 'planetDataFrame' is not defined"
     ]
    }
   ],
   "source": []
  },
  {
   "cell_type": "code",
   "execution_count": 3,
   "metadata": {},
   "outputs": [
    {
     "ename": "ValueError",
     "evalue": "20 is not in list",
     "output_type": "error",
     "traceback": [
      "\u001b[1;31m---------------------------------------------------------------------------\u001b[0m",
      "\u001b[1;31mValueError\u001b[0m                                Traceback (most recent call last)",
      "Cell \u001b[1;32mIn [3], line 39\u001b[0m\n\u001b[0;32m     34\u001b[0m taco4 \u001b[39m=\u001b[39m [\u001b[39m'\u001b[39m\u001b[39mh\u001b[39m\u001b[39m'\u001b[39m,\u001b[39m'\u001b[39m\u001b[39mh\u001b[39m\u001b[39m'\u001b[39m,\u001b[39m'\u001b[39m\u001b[39mh\u001b[39m\u001b[39m'\u001b[39m,\u001b[39m'\u001b[39m\u001b[39mh\u001b[39m\u001b[39m'\u001b[39m,\u001b[39m'\u001b[39m\u001b[39mh\u001b[39m\u001b[39m'\u001b[39m,\u001b[39m'\u001b[39m\u001b[39mh\u001b[39m\u001b[39m'\u001b[39m,\u001b[39m'\u001b[39m\u001b[39mh\u001b[39m\u001b[39m'\u001b[39m,\u001b[39m'\u001b[39m\u001b[39mh\u001b[39m\u001b[39m'\u001b[39m,\u001b[39m'\u001b[39m\u001b[39mh\u001b[39m\u001b[39m'\u001b[39m,\u001b[39m'\u001b[39m\u001b[39mh\u001b[39m\u001b[39m'\u001b[39m,\u001b[39m'\u001b[39m\u001b[39mh\u001b[39m\u001b[39m'\u001b[39m,\u001b[39m'\u001b[39m\u001b[39mh\u001b[39m\u001b[39m'\u001b[39m,\u001b[39m'\u001b[39m\u001b[39mh\u001b[39m\u001b[39m'\u001b[39m,\u001b[39m'\u001b[39m\u001b[39mh\u001b[39m\u001b[39m'\u001b[39m,\u001b[39m'\u001b[39m\u001b[39mh\u001b[39m\u001b[39m'\u001b[39m,\u001b[39m'\u001b[39m\u001b[39mh\u001b[39m\u001b[39m'\u001b[39m,\u001b[39m'\u001b[39m\u001b[39ms\u001b[39m\u001b[39m'\u001b[39m,\u001b[39m'\u001b[39m\u001b[39ms\u001b[39m\u001b[39m'\u001b[39m,\u001b[39m'\u001b[39m\u001b[39ms\u001b[39m\u001b[39m'\u001b[39m,\u001b[39m'\u001b[39m\u001b[39ms\u001b[39m\u001b[39m'\u001b[39m] \n\u001b[0;32m     35\u001b[0m taco5 \u001b[39m=\u001b[39m [\u001b[39m'\u001b[39m\u001b[39ms\u001b[39m\u001b[39m'\u001b[39m,\u001b[39m'\u001b[39m\u001b[39ms\u001b[39m\u001b[39m'\u001b[39m,\u001b[39m'\u001b[39m\u001b[39ms\u001b[39m\u001b[39m'\u001b[39m,\u001b[39m'\u001b[39m\u001b[39ms\u001b[39m\u001b[39m'\u001b[39m,\u001b[39m'\u001b[39m\u001b[39ms\u001b[39m\u001b[39m'\u001b[39m,\u001b[39m'\u001b[39m\u001b[39ms\u001b[39m\u001b[39m'\u001b[39m,\u001b[39m'\u001b[39m\u001b[39ms\u001b[39m\u001b[39m'\u001b[39m,\u001b[39m'\u001b[39m\u001b[39ms\u001b[39m\u001b[39m'\u001b[39m,\u001b[39m'\u001b[39m\u001b[39ms\u001b[39m\u001b[39m'\u001b[39m,\u001b[39m'\u001b[39m\u001b[39ms\u001b[39m\u001b[39m'\u001b[39m,\u001b[39m'\u001b[39m\u001b[39ms\u001b[39m\u001b[39m'\u001b[39m,\u001b[39m'\u001b[39m\u001b[39ms\u001b[39m\u001b[39m'\u001b[39m,\u001b[39m'\u001b[39m\u001b[39ms\u001b[39m\u001b[39m'\u001b[39m,\u001b[39m'\u001b[39m\u001b[39ms\u001b[39m\u001b[39m'\u001b[39m,\u001b[39m'\u001b[39m\u001b[39ms\u001b[39m\u001b[39m'\u001b[39m,\u001b[39m'\u001b[39m\u001b[39ms\u001b[39m\u001b[39m'\u001b[39m,\u001b[39m'\u001b[39m\u001b[39ms\u001b[39m\u001b[39m'\u001b[39m,\u001b[39m'\u001b[39m\u001b[39ms\u001b[39m\u001b[39m'\u001b[39m,\u001b[39m'\u001b[39m\u001b[39ms\u001b[39m\u001b[39m'\u001b[39m,\u001b[39m'\u001b[39m\u001b[39ms\u001b[39m\u001b[39m'\u001b[39m] \n\u001b[1;32m---> 39\u001b[0m \u001b[39mprint\u001b[39m(scoreAQL(taco0))\n\u001b[0;32m     40\u001b[0m \u001b[39mprint\u001b[39m(scoreAQL(taco1))\n\u001b[0;32m     41\u001b[0m \u001b[39mprint\u001b[39m(scoreAQL(taco2))\n",
      "Cell \u001b[1;32mIn [3], line 5\u001b[0m, in \u001b[0;36mscoreAQL\u001b[1;34m(batch)\u001b[0m\n\u001b[0;32m      3\u001b[0m aql_classes \u001b[39m=\u001b[39m [[\u001b[39m1\u001b[39m],[\u001b[39m5\u001b[39m],[\u001b[39m10\u001b[39m]]\n\u001b[0;32m      4\u001b[0m batch_size \u001b[39m=\u001b[39m \u001b[39mlen\u001b[39m(batch)\n\u001b[1;32m----> 5\u001b[0m batch_index \u001b[39m=\u001b[39m batch_size_options\u001b[39m.\u001b[39;49mindex(batch_size)\n\u001b[0;32m      6\u001b[0m batch_aql_class \u001b[39m=\u001b[39m \u001b[39m'\u001b[39m\u001b[39m'\u001b[39m\n\u001b[0;32m      8\u001b[0m \u001b[39m# Images other than normal\u001b[39;00m\n",
      "\u001b[1;31mValueError\u001b[0m: 20 is not in list"
     ]
    }
   ],
   "source": [
    "\n",
    "# def scoreAQL(batch):\n",
    "#     batch_size_options = [125]\n",
    "#     aql_classes = [[1],[5],[10]]\n",
    "#     batch_size = len(batch)\n",
    "\n",
    "#     batch_aql_class = ''\n",
    "\n",
    "#     # Images other than normal\n",
    "#     sick_in_batch_size = 0\n",
    " \n",
    "#     for apple in batch:\n",
    "#        # print(apple)\n",
    "#         if apple != 'h':\n",
    "#             sick_in_batch_size += 1\n",
    "#          #  print(sick_in_batch_size)\n",
    "            \n",
    "#     for aqlClass in aql_classes:\n",
    "#         #print(aqlClass)\n",
    "#         batch_aql_class = 'AQL class : 4 (rejected)'\n",
    "        \n",
    "#         if sick_in_batch_size <= aqlClass[batch_index]:\n",
    "            \n",
    "#             batch_aql_class = (f'AQL class : {aql_classes.index(aqlClass)+1}')\n",
    "#             break\n",
    "#             #print(batch_aql_class)\n",
    "#     print(f'Lot AQL class {aql_classes.index(aqlClass)+1} : sample of 125 apples contained {125 -sick_in_batch_size}healthy apples and {sick_in_batch_size} sick apples')\n",
    "#     return batch_aql_class\n",
    "\n",
    " \n",
    "# taco0 = ['h','h','h','h','h','h','h','h','h','h','h','h','h','h','h','h','h','h','h','h'] \n",
    "# taco1 = ['h','h','h','h','h','h','h','h','h','h','h','h','h','h','h','h','h','h','h','s']   \n",
    "# taco2 = ['h','h','h','h','h','h','h','h','h','h','h','h','h','h','h','h','h','h','s','s']  \n",
    "# taco3 = ['h','h','h','h','h','h','h','h','h','h','h','h','h','h','h','h','h','s','s','s']   \n",
    "# taco4 = ['h','h','h','h','h','h','h','h','h','h','h','h','h','h','h','h','s','s','s','s'] \n",
    "# taco5 = ['s','s','s','s','s','s','s','s','s','s','s','s','s','s','s','s','s','s','s','s'] \n",
    "  \n",
    "\n",
    "\n",
    "# print(scoreAQL(taco0))\n",
    "# print(scoreAQL(taco1))\n",
    "# print(scoreAQL(taco2))\n",
    "# print(scoreAQL(taco3))\n",
    "# print(scoreAQL(taco4))\n",
    "# print(scoreAQL(taco5))"
   ]
  },
  {
   "cell_type": "code",
   "execution_count": null,
   "metadata": {},
   "outputs": [],
   "source": []
  }
 ],
 "metadata": {
  "kernelspec": {
   "display_name": "Python 3.9.13 ('base')",
   "language": "python",
   "name": "python3"
  },
  "language_info": {
   "codemirror_mode": {
    "name": "ipython",
    "version": 3
   },
   "file_extension": ".py",
   "mimetype": "text/x-python",
   "name": "python",
   "nbconvert_exporter": "python",
   "pygments_lexer": "ipython3",
   "version": "3.9.13"
  },
  "orig_nbformat": 4,
  "vscode": {
   "interpreter": {
    "hash": "ad2bdc8ecc057115af97d19610ffacc2b4e99fae6737bb82f5d7fb13d2f2c186"
   }
  }
 },
 "nbformat": 4,
 "nbformat_minor": 2
}
