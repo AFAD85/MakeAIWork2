{
 "cells": [
  {
   "cell_type": "markdown",
   "metadata": {},
   "source": [
    "AQL Code\n"
   ]
  },
  {
   "cell_type": "code",
   "execution_count": 43,
   "metadata": {},
   "outputs": [],
   "source": [
    "import pandas as pd"
   ]
  },
  {
   "cell_type": "code",
   "execution_count": 6,
   "metadata": {},
   "outputs": [
    {
     "ename": "IndexError",
     "evalue": "list index out of range",
     "output_type": "error",
     "traceback": [
      "\u001b[1;31m---------------------------------------------------------------------------\u001b[0m",
      "\u001b[1;31mIndexError\u001b[0m                                Traceback (most recent call last)",
      "Cell \u001b[1;32mIn [6], line 43\u001b[0m\n\u001b[0;32m     38\u001b[0m taco4 \u001b[39m=\u001b[39m [\u001b[39m'\u001b[39m\u001b[39mh\u001b[39m\u001b[39m'\u001b[39m,\u001b[39m'\u001b[39m\u001b[39mh\u001b[39m\u001b[39m'\u001b[39m,\u001b[39m'\u001b[39m\u001b[39mh\u001b[39m\u001b[39m'\u001b[39m,\u001b[39m'\u001b[39m\u001b[39mh\u001b[39m\u001b[39m'\u001b[39m,\u001b[39m'\u001b[39m\u001b[39mh\u001b[39m\u001b[39m'\u001b[39m,\u001b[39m'\u001b[39m\u001b[39mh\u001b[39m\u001b[39m'\u001b[39m,\u001b[39m'\u001b[39m\u001b[39mh\u001b[39m\u001b[39m'\u001b[39m,\u001b[39m'\u001b[39m\u001b[39mh\u001b[39m\u001b[39m'\u001b[39m,\u001b[39m'\u001b[39m\u001b[39mh\u001b[39m\u001b[39m'\u001b[39m,\u001b[39m'\u001b[39m\u001b[39mh\u001b[39m\u001b[39m'\u001b[39m,\u001b[39m'\u001b[39m\u001b[39mh\u001b[39m\u001b[39m'\u001b[39m,\u001b[39m'\u001b[39m\u001b[39mh\u001b[39m\u001b[39m'\u001b[39m,\u001b[39m'\u001b[39m\u001b[39mh\u001b[39m\u001b[39m'\u001b[39m,\u001b[39m'\u001b[39m\u001b[39mh\u001b[39m\u001b[39m'\u001b[39m,\u001b[39m'\u001b[39m\u001b[39mh\u001b[39m\u001b[39m'\u001b[39m,\u001b[39m'\u001b[39m\u001b[39mh\u001b[39m\u001b[39m'\u001b[39m,\u001b[39m'\u001b[39m\u001b[39mh\u001b[39m\u001b[39m'\u001b[39m,\u001b[39m'\u001b[39m\u001b[39mh\u001b[39m\u001b[39m'\u001b[39m,\u001b[39m'\u001b[39m\u001b[39mh\u001b[39m\u001b[39m'\u001b[39m,\u001b[39m'\u001b[39m\u001b[39mh\u001b[39m\u001b[39m'\u001b[39m,\u001b[39m'\u001b[39m\u001b[39mh\u001b[39m\u001b[39m'\u001b[39m,\u001b[39m'\u001b[39m\u001b[39mh\u001b[39m\u001b[39m'\u001b[39m,\u001b[39m'\u001b[39m\u001b[39mh\u001b[39m\u001b[39m'\u001b[39m,\u001b[39m'\u001b[39m\u001b[39mh\u001b[39m\u001b[39m'\u001b[39m,\u001b[39m'\u001b[39m\u001b[39mh\u001b[39m\u001b[39m'\u001b[39m,\u001b[39m'\u001b[39m\u001b[39mh\u001b[39m\u001b[39m'\u001b[39m,\u001b[39m'\u001b[39m\u001b[39mh\u001b[39m\u001b[39m'\u001b[39m,\u001b[39m'\u001b[39m\u001b[39mh\u001b[39m\u001b[39m'\u001b[39m,\u001b[39m'\u001b[39m\u001b[39mh\u001b[39m\u001b[39m'\u001b[39m,\u001b[39m'\u001b[39m\u001b[39mh\u001b[39m\u001b[39m'\u001b[39m,\u001b[39m'\u001b[39m\u001b[39mh\u001b[39m\u001b[39m'\u001b[39m,\u001b[39m'\u001b[39m\u001b[39mh\u001b[39m\u001b[39m'\u001b[39m,\u001b[39m'\u001b[39m\u001b[39mh\u001b[39m\u001b[39m'\u001b[39m,\u001b[39m'\u001b[39m\u001b[39mh\u001b[39m\u001b[39m'\u001b[39m,\u001b[39m'\u001b[39m\u001b[39mh\u001b[39m\u001b[39m'\u001b[39m,\u001b[39m'\u001b[39m\u001b[39mh\u001b[39m\u001b[39m'\u001b[39m,\u001b[39m'\u001b[39m\u001b[39mh\u001b[39m\u001b[39m'\u001b[39m,\u001b[39m'\u001b[39m\u001b[39mh\u001b[39m\u001b[39m'\u001b[39m,\u001b[39m'\u001b[39m\u001b[39mh\u001b[39m\u001b[39m'\u001b[39m,\u001b[39m'\u001b[39m\u001b[39mh\u001b[39m\u001b[39m'\u001b[39m,\u001b[39m'\u001b[39m\u001b[39mh\u001b[39m\u001b[39m'\u001b[39m,\u001b[39m'\u001b[39m\u001b[39mh\u001b[39m\u001b[39m'\u001b[39m,\u001b[39m'\u001b[39m\u001b[39mh\u001b[39m\u001b[39m'\u001b[39m,\u001b[39m'\u001b[39m\u001b[39mh\u001b[39m\u001b[39m'\u001b[39m,\u001b[39m'\u001b[39m\u001b[39mh\u001b[39m\u001b[39m'\u001b[39m,\u001b[39m'\u001b[39m\u001b[39mh\u001b[39m\u001b[39m'\u001b[39m,\u001b[39m'\u001b[39m\u001b[39mh\u001b[39m\u001b[39m'\u001b[39m,\u001b[39m'\u001b[39m\u001b[39mh\u001b[39m\u001b[39m'\u001b[39m,\u001b[39m'\u001b[39m\u001b[39mh\u001b[39m\u001b[39m'\u001b[39m,\u001b[39m'\u001b[39m\u001b[39mh\u001b[39m\u001b[39m'\u001b[39m,\u001b[39m'\u001b[39m\u001b[39mh\u001b[39m\u001b[39m'\u001b[39m,\u001b[39m'\u001b[39m\u001b[39mh\u001b[39m\u001b[39m'\u001b[39m,\u001b[39m'\u001b[39m\u001b[39mh\u001b[39m\u001b[39m'\u001b[39m,\u001b[39m'\u001b[39m\u001b[39mh\u001b[39m\u001b[39m'\u001b[39m,\u001b[39m'\u001b[39m\u001b[39mh\u001b[39m\u001b[39m'\u001b[39m,\u001b[39m'\u001b[39m\u001b[39mh\u001b[39m\u001b[39m'\u001b[39m,\u001b[39m'\u001b[39m\u001b[39mh\u001b[39m\u001b[39m'\u001b[39m,\u001b[39m'\u001b[39m\u001b[39mh\u001b[39m\u001b[39m'\u001b[39m,\u001b[39m'\u001b[39m\u001b[39mh\u001b[39m\u001b[39m'\u001b[39m,\u001b[39m'\u001b[39m\u001b[39mh\u001b[39m\u001b[39m'\u001b[39m,\u001b[39m'\u001b[39m\u001b[39mh\u001b[39m\u001b[39m'\u001b[39m,\u001b[39m'\u001b[39m\u001b[39mh\u001b[39m\u001b[39m'\u001b[39m,\u001b[39m'\u001b[39m\u001b[39mh\u001b[39m\u001b[39m'\u001b[39m,\u001b[39m'\u001b[39m\u001b[39mh\u001b[39m\u001b[39m'\u001b[39m,\u001b[39m'\u001b[39m\u001b[39mh\u001b[39m\u001b[39m'\u001b[39m,\u001b[39m'\u001b[39m\u001b[39mh\u001b[39m\u001b[39m'\u001b[39m,\u001b[39m'\u001b[39m\u001b[39mh\u001b[39m\u001b[39m'\u001b[39m,\u001b[39m'\u001b[39m\u001b[39mh\u001b[39m\u001b[39m'\u001b[39m,\u001b[39m'\u001b[39m\u001b[39mh\u001b[39m\u001b[39m'\u001b[39m,\u001b[39m'\u001b[39m\u001b[39mh\u001b[39m\u001b[39m'\u001b[39m,\u001b[39m'\u001b[39m\u001b[39mh\u001b[39m\u001b[39m'\u001b[39m,\u001b[39m'\u001b[39m\u001b[39mh\u001b[39m\u001b[39m'\u001b[39m,\u001b[39m'\u001b[39m\u001b[39ms\u001b[39m\u001b[39m'\u001b[39m,\u001b[39m'\u001b[39m\u001b[39ms\u001b[39m\u001b[39m'\u001b[39m,\u001b[39m'\u001b[39m\u001b[39ms\u001b[39m\u001b[39m'\u001b[39m,\u001b[39m'\u001b[39m\u001b[39ms\u001b[39m\u001b[39m'\u001b[39m,\u001b[39m'\u001b[39m\u001b[39ms\u001b[39m\u001b[39m'\u001b[39m,\u001b[39m'\u001b[39m\u001b[39ms\u001b[39m\u001b[39m'\u001b[39m,\u001b[39m'\u001b[39m\u001b[39ms\u001b[39m\u001b[39m'\u001b[39m,\u001b[39m'\u001b[39m\u001b[39ms\u001b[39m\u001b[39m'\u001b[39m]\n\u001b[0;32m     39\u001b[0m taco5 \u001b[39m=\u001b[39m [\u001b[39m'\u001b[39m\u001b[39mh\u001b[39m\u001b[39m'\u001b[39m,\u001b[39m'\u001b[39m\u001b[39mh\u001b[39m\u001b[39m'\u001b[39m,\u001b[39m'\u001b[39m\u001b[39mh\u001b[39m\u001b[39m'\u001b[39m,\u001b[39m'\u001b[39m\u001b[39mh\u001b[39m\u001b[39m'\u001b[39m,\u001b[39m'\u001b[39m\u001b[39mh\u001b[39m\u001b[39m'\u001b[39m,\u001b[39m'\u001b[39m\u001b[39mh\u001b[39m\u001b[39m'\u001b[39m,\u001b[39m'\u001b[39m\u001b[39mh\u001b[39m\u001b[39m'\u001b[39m,\u001b[39m'\u001b[39m\u001b[39mh\u001b[39m\u001b[39m'\u001b[39m,\u001b[39m'\u001b[39m\u001b[39mh\u001b[39m\u001b[39m'\u001b[39m,\u001b[39m'\u001b[39m\u001b[39mh\u001b[39m\u001b[39m'\u001b[39m,\u001b[39m'\u001b[39m\u001b[39mh\u001b[39m\u001b[39m'\u001b[39m,\u001b[39m'\u001b[39m\u001b[39mh\u001b[39m\u001b[39m'\u001b[39m,\u001b[39m'\u001b[39m\u001b[39mh\u001b[39m\u001b[39m'\u001b[39m,\u001b[39m'\u001b[39m\u001b[39mh\u001b[39m\u001b[39m'\u001b[39m,\u001b[39m'\u001b[39m\u001b[39mh\u001b[39m\u001b[39m'\u001b[39m,\u001b[39m'\u001b[39m\u001b[39mh\u001b[39m\u001b[39m'\u001b[39m,\u001b[39m'\u001b[39m\u001b[39mh\u001b[39m\u001b[39m'\u001b[39m,\u001b[39m'\u001b[39m\u001b[39mh\u001b[39m\u001b[39m'\u001b[39m,\u001b[39m'\u001b[39m\u001b[39mh\u001b[39m\u001b[39m'\u001b[39m,\u001b[39m'\u001b[39m\u001b[39mh\u001b[39m\u001b[39m'\u001b[39m,\u001b[39m'\u001b[39m\u001b[39mh\u001b[39m\u001b[39m'\u001b[39m,\u001b[39m'\u001b[39m\u001b[39mh\u001b[39m\u001b[39m'\u001b[39m,\u001b[39m'\u001b[39m\u001b[39mh\u001b[39m\u001b[39m'\u001b[39m,\u001b[39m'\u001b[39m\u001b[39mh\u001b[39m\u001b[39m'\u001b[39m,\u001b[39m'\u001b[39m\u001b[39mh\u001b[39m\u001b[39m'\u001b[39m,\u001b[39m'\u001b[39m\u001b[39mh\u001b[39m\u001b[39m'\u001b[39m,\u001b[39m'\u001b[39m\u001b[39mh\u001b[39m\u001b[39m'\u001b[39m,\u001b[39m'\u001b[39m\u001b[39mh\u001b[39m\u001b[39m'\u001b[39m,\u001b[39m'\u001b[39m\u001b[39mh\u001b[39m\u001b[39m'\u001b[39m,\u001b[39m'\u001b[39m\u001b[39mh\u001b[39m\u001b[39m'\u001b[39m,\u001b[39m'\u001b[39m\u001b[39mh\u001b[39m\u001b[39m'\u001b[39m,\u001b[39m'\u001b[39m\u001b[39mh\u001b[39m\u001b[39m'\u001b[39m,\u001b[39m'\u001b[39m\u001b[39mh\u001b[39m\u001b[39m'\u001b[39m,\u001b[39m'\u001b[39m\u001b[39mh\u001b[39m\u001b[39m'\u001b[39m,\u001b[39m'\u001b[39m\u001b[39mh\u001b[39m\u001b[39m'\u001b[39m,\u001b[39m'\u001b[39m\u001b[39mh\u001b[39m\u001b[39m'\u001b[39m,\u001b[39m'\u001b[39m\u001b[39mh\u001b[39m\u001b[39m'\u001b[39m,\u001b[39m'\u001b[39m\u001b[39mh\u001b[39m\u001b[39m'\u001b[39m,\u001b[39m'\u001b[39m\u001b[39mh\u001b[39m\u001b[39m'\u001b[39m,\u001b[39m'\u001b[39m\u001b[39mh\u001b[39m\u001b[39m'\u001b[39m,\u001b[39m'\u001b[39m\u001b[39mh\u001b[39m\u001b[39m'\u001b[39m,\u001b[39m'\u001b[39m\u001b[39mh\u001b[39m\u001b[39m'\u001b[39m,\u001b[39m'\u001b[39m\u001b[39mh\u001b[39m\u001b[39m'\u001b[39m,\u001b[39m'\u001b[39m\u001b[39mh\u001b[39m\u001b[39m'\u001b[39m,\u001b[39m'\u001b[39m\u001b[39mh\u001b[39m\u001b[39m'\u001b[39m,\u001b[39m'\u001b[39m\u001b[39mh\u001b[39m\u001b[39m'\u001b[39m,\u001b[39m'\u001b[39m\u001b[39mh\u001b[39m\u001b[39m'\u001b[39m,\u001b[39m'\u001b[39m\u001b[39mh\u001b[39m\u001b[39m'\u001b[39m,\u001b[39m'\u001b[39m\u001b[39mh\u001b[39m\u001b[39m'\u001b[39m,\u001b[39m'\u001b[39m\u001b[39mh\u001b[39m\u001b[39m'\u001b[39m,\u001b[39m'\u001b[39m\u001b[39mh\u001b[39m\u001b[39m'\u001b[39m,\u001b[39m'\u001b[39m\u001b[39mh\u001b[39m\u001b[39m'\u001b[39m,\u001b[39m'\u001b[39m\u001b[39mh\u001b[39m\u001b[39m'\u001b[39m,\u001b[39m'\u001b[39m\u001b[39mh\u001b[39m\u001b[39m'\u001b[39m,\u001b[39m'\u001b[39m\u001b[39mh\u001b[39m\u001b[39m'\u001b[39m,\u001b[39m'\u001b[39m\u001b[39mh\u001b[39m\u001b[39m'\u001b[39m,\u001b[39m'\u001b[39m\u001b[39mh\u001b[39m\u001b[39m'\u001b[39m,\u001b[39m'\u001b[39m\u001b[39mh\u001b[39m\u001b[39m'\u001b[39m,\u001b[39m'\u001b[39m\u001b[39mh\u001b[39m\u001b[39m'\u001b[39m,\u001b[39m'\u001b[39m\u001b[39mh\u001b[39m\u001b[39m'\u001b[39m,\u001b[39m'\u001b[39m\u001b[39mh\u001b[39m\u001b[39m'\u001b[39m,\u001b[39m'\u001b[39m\u001b[39mh\u001b[39m\u001b[39m'\u001b[39m,\u001b[39m'\u001b[39m\u001b[39mh\u001b[39m\u001b[39m'\u001b[39m,\u001b[39m'\u001b[39m\u001b[39mh\u001b[39m\u001b[39m'\u001b[39m,\u001b[39m'\u001b[39m\u001b[39mh\u001b[39m\u001b[39m'\u001b[39m,\u001b[39m'\u001b[39m\u001b[39mh\u001b[39m\u001b[39m'\u001b[39m,\u001b[39m'\u001b[39m\u001b[39mh\u001b[39m\u001b[39m'\u001b[39m,\u001b[39m'\u001b[39m\u001b[39mh\u001b[39m\u001b[39m'\u001b[39m,\u001b[39m'\u001b[39m\u001b[39mh\u001b[39m\u001b[39m'\u001b[39m,\u001b[39m'\u001b[39m\u001b[39ms\u001b[39m\u001b[39m'\u001b[39m,\u001b[39m'\u001b[39m\u001b[39ms\u001b[39m\u001b[39m'\u001b[39m,\u001b[39m'\u001b[39m\u001b[39ms\u001b[39m\u001b[39m'\u001b[39m,\u001b[39m'\u001b[39m\u001b[39ms\u001b[39m\u001b[39m'\u001b[39m,\u001b[39m'\u001b[39m\u001b[39ms\u001b[39m\u001b[39m'\u001b[39m,\u001b[39m'\u001b[39m\u001b[39ms\u001b[39m\u001b[39m'\u001b[39m,\u001b[39m'\u001b[39m\u001b[39ms\u001b[39m\u001b[39m'\u001b[39m,\u001b[39m'\u001b[39m\u001b[39ms\u001b[39m\u001b[39m'\u001b[39m,\u001b[39m'\u001b[39m\u001b[39ms\u001b[39m\u001b[39m'\u001b[39m,\u001b[39m'\u001b[39m\u001b[39ms\u001b[39m\u001b[39m'\u001b[39m,\u001b[39m'\u001b[39m\u001b[39ms\u001b[39m\u001b[39m'\u001b[39m]\n\u001b[1;32m---> 43\u001b[0m \u001b[39mprint\u001b[39m(scoreAQL(taco0))\n\u001b[0;32m     44\u001b[0m \u001b[39mprint\u001b[39m(scoreAQL(taco1))\n\u001b[0;32m     45\u001b[0m \u001b[39mprint\u001b[39m(scoreAQL(taco2))\n",
      "Cell \u001b[1;32mIn [6], line 25\u001b[0m, in \u001b[0;36mscoreAQL\u001b[1;34m(batch)\u001b[0m\n\u001b[0;32m     21\u001b[0m \u001b[39mfor\u001b[39;00m aqlClass \u001b[39min\u001b[39;00m aql_classes:\n\u001b[0;32m     22\u001b[0m     \u001b[39m#print(aqlClass)\u001b[39;00m\n\u001b[0;32m     23\u001b[0m     batch_aql_class \u001b[39m=\u001b[39m \u001b[39m'\u001b[39m\u001b[39mAQL class : 4 (rejected)\u001b[39m\u001b[39m'\u001b[39m\n\u001b[1;32m---> 25\u001b[0m     \u001b[39mif\u001b[39;00m sick_in_batch_size \u001b[39m<\u001b[39m\u001b[39m=\u001b[39m aqlClass[batch_index]:\n\u001b[0;32m     27\u001b[0m         batch_aql_class \u001b[39m=\u001b[39m (\u001b[39mf\u001b[39m\u001b[39m'\u001b[39m\u001b[39mAQL class : \u001b[39m\u001b[39m{\u001b[39;00maql_classes\u001b[39m.\u001b[39mindex(aqlClass)\u001b[39m+\u001b[39m\u001b[39m1\u001b[39m\u001b[39m}\u001b[39;00m\u001b[39m'\u001b[39m)\n\u001b[0;32m     28\u001b[0m         \u001b[39mbreak\u001b[39;00m\n",
      "\u001b[1;31mIndexError\u001b[0m: list index out of range"
     ]
    }
   ],
   "source": [
    "# functie die het aantal gezonde appels uit de batch haalt \n",
    "# en vervolgens met de batch size en het aantal gezonde uit de AQL.csv database de score kan vinden\n",
    "\n",
    "\n",
    "def scoreAQL(batch):\n",
    "    batch_size_options = [5,8,20,32,80,200,315]\n",
    "    aql_classes = [[0],[5],[10]]\n",
    "    batch_size = len(batch)\n",
    "    batch_index = batch_size_options.index(batch_size)\n",
    "    batch_aql_class = ''\n",
    "\n",
    "    # Images other than normal\n",
    "    sick_in_batch_size = 0\n",
    " \n",
    "    for apple in batch:\n",
    "       # print(apple)\n",
    "        if apple != 'h':\n",
    "            sick_in_batch_size += 1\n",
    "         #  print(sick_in_batch_size)\n",
    "            \n",
    "    for aqlClass in aql_classes:\n",
    "        #print(aqlClass)\n",
    "        batch_aql_class = 'AQL class : 4 (rejected)'\n",
    "        \n",
    "        if sick_in_batch_size <= aqlClass[batch_index]:\n",
    "            \n",
    "            batch_aql_class = (f'AQL class : {aql_classes.index(aqlClass)+1}')\n",
    "            break\n",
    "            #print(batch_aql_class)\n",
    "    print(f'Lot AQL class {aql_classes.index(aqlClass)+1} : sample of {batch_size} apples contained {batch_size -sick_in_batch_size} healthy apples and {sick_in_batch_size} sick apples')\n",
    "    return batch_aql_class\n",
    "\n",
    " \n",
    "taco0 = ['h','h','h','h','h','h','h','h','h','h','h','h','h','h','h','h','h','h','h','h','h','h','h','h','h','h','h','h','h','h','h','h','h','h','h','h','h','h','h','h','h','h','h','h','h','h','h','h','h','h','h','h','h','h','h','h','h','h','h','h','h','h','h','h','h','h','h','h','h','h','h','h','h','h','h','h','h','h','h','h']\n",
    "taco1 = ['h','h','h','h','h','h','h','h','h','h','h','h','h','h','h','h','h','h','h','h','h','h','h','h','h','h','h','h','h','h','h','h','h','h','h','h','h','h','h','h','h','h','h','h','h','h','h','h','h','h','h','h','h','h','h','h','h','h','h','h','h','h','h','h','h','h','h','h','h','h','h','h','h','h','h','h','h','h','h','s'] \n",
    "taco2 = ['h','h','h','h','h','h','h','h','h','h','h','h','h','h','h','h','h','h','h','h','h','h','h','h','h','h','h','h','h','h','h','h','h','h','h','h','h','h','h','h','h','h','h','h','h','h','h','h','h','h','h','h','h','h','h','h','h','h','h','h','h','h','h','h','h','h','h','h','h','h','h','h','h','h','h','s','s','s','s','s']\n",
    "taco3 = ['h','h','h','h','h','h','h','h','h','h','h','h','h','h','h','h','h','h','h','h','h','h','h','h','h','h','h','h','h','h','h','h','h','h','h','h','h','h','h','h','h','h','h','h','h','h','h','h','h','h','h','h','h','h','h','h','h','h','h','h','h','h','h','h','h','h','h','h','h','h','h','h','h','h','s','s','s','s','s','s']  \n",
    "taco4 = ['h','h','h','h','h','h','h','h','h','h','h','h','h','h','h','h','h','h','h','h','h','h','h','h','h','h','h','h','h','h','h','h','h','h','h','h','h','h','h','h','h','h','h','h','h','h','h','h','h','h','h','h','h','h','h','h','h','h','h','h','h','h','h','h','h','h','h','h','h','h','h','h','s','s','s','s','s','s','s','s']\n",
    "taco5 = ['h','h','h','h','h','h','h','h','h','h','h','h','h','h','h','h','h','h','h','h','h','h','h','h','h','h','h','h','h','h','h','h','h','h','h','h','h','h','h','h','h','h','h','h','h','h','h','h','h','h','h','h','h','h','h','h','h','h','h','h','h','h','h','h','h','h','h','h','h','s','s','s','s','s','s','s','s','s','s','s']\n",
    "  \n",
    "\n",
    "\n",
    "print(scoreAQL(taco0))\n",
    "print(scoreAQL(taco1))\n",
    "print(scoreAQL(taco2))\n",
    "print(scoreAQL(taco3))\n",
    "print(scoreAQL(taco4))\n",
    "print(scoreAQL(taco5))\n",
    "    \n",
    "    # if #batch_size overeenkomt met een waarde uit batch_size_options:\n",
    "    #     if sick_in_batch >= aql_classes[0][batch_index]:\n",
    "    #         print(f'Lot AQL class 1 : sample of {batch_size} apples contained {batch_size - sick_in_batch}healthy apples and {sick_in_batch} sick apples')\n",
    "    #         batch_aql_class = 'AQL class : 1'\n",
    "    #         return batch_aql_class\n",
    "    #     elif sick_in_batch >= aql_classes[1][batch_index]:\n",
    "    #         print(f'Lot AQL class 2 : sample of {batch_size} apples contained {batch_size - sick_in_batch}healthy apples and {sick_in_batch} sick apples')\n",
    "    #         batch_aql_class = 'AQL class : 2'\n",
    "    #         return batch_aql_class\n",
    "    #     elif sick_in_batch >= aql_classes[2][batch_index]:\n",
    "    #         print(f'Lot AQL class 3 : sample of {batch_size} apples contained {batch_size - sick_in_batch}healthy apples and {sick_in_batch} sick apples')\n",
    "    #         batch_aql_class = 'AQL class : 3'\n",
    "    #         return batch_aql_class\n",
    "    #     else:\n",
    "    #         print('Lot is rejected, apple quality is too low')\n",
    "    #         batch_aql_class = 'AQL class : rejected'\n",
    "    #         return batch_aql_class\n",
    "    # else:\n",
    "    #     print(\"AQL score can only be given for samples of the following sizes : 5,8,20,32,80,200,315\")\n",
    "       \n",
    "\n"
   ]
  },
  {
   "cell_type": "code",
   "execution_count": 2,
   "metadata": {},
   "outputs": [
    {
     "name": "stdout",
     "output_type": "stream",
     "text": [
      "0\n",
      "1\n"
     ]
    }
   ],
   "source": [
    "print(ord('A')%65)\n",
    "print(ord('B')%65)\n",
    "\n"
   ]
  },
  {
   "cell_type": "code",
   "execution_count": 46,
   "metadata": {},
   "outputs": [
    {
     "data": {
      "text/plain": [
       "'\\nAQL Database\\n\\nBatch Size  | klasse 1  | klasse 2  | klasse 3  | klasse 4 \\n5           |    5      |   5       |     4     |   <4\\n8           |    8      |   8       |     7     |   <7\\n20          |    20     |   19      |     17    |   <17\\n32          |    32     |   30      |     27    |   <27\\n80          |    79     |   75      |     70    |   <70\\n200         |    198    |   190     |     179   |   <179\\n315         |    312    |   301     |     294   |   <294\\n\\n\\n\\n            5       8       20      32      80      200     315       \\nKlasse 1    5       8       20      32      79      198     312\\nKlasse 2    5       8       19      30      75      190     301\\nKlasse 3    4       7       17      27      70      179     294\\nKlasse 4    <4      <7      <17     <27     <70     <179    <294\\n\\n'"
      ]
     },
     "execution_count": 46,
     "metadata": {},
     "output_type": "execute_result"
    }
   ],
   "source": [
    "\"\"\"\n",
    "AQL Database\n",
    "\n",
    "Batch Size  | klasse 1  | klasse 2  | klasse 3  | klasse 4 \n",
    "5           |    5      |   5       |     4     |   <4\n",
    "8           |    8      |   8       |     7     |   <7\n",
    "20          |    20     |   19      |     17    |   <17\n",
    "32          |    32     |   30      |     27    |   <27\n",
    "80          |    79     |   75      |     70    |   <70\n",
    "200         |    198    |   190     |     179   |   <179\n",
    "315         |    312    |   301     |     294   |   <294\n",
    "\n",
    "\n",
    "\n",
    "            5       8       20      32      80      200     315       \n",
    "Klasse 1    5       8       20      32      79      198     312\n",
    "Klasse 2    5       8       19      30      75      190     301\n",
    "Klasse 3    4       7       17      27      70      179     294\n",
    "Klasse 4    <4      <7      <17     <27     <70     <179    <294\n",
    "\n",
    "\"\"\""
   ]
  },
  {
   "cell_type": "code",
   "execution_count": 3,
   "metadata": {},
   "outputs": [
    {
     "name": "stdout",
     "output_type": "stream",
     "text": [
      "Lot AQL class 4 : sample of 80 apples contained 69 healthy apples and 11 sick apples\n"
     ]
    }
   ],
   "source": [
    "from AQL import scoreAQL\n",
    "taco0 = ['h','h','h','h','h','h','h','h','h','h','h','h','h','h','h','h','h','h','h','h','h','h','h','h','h','h','h','h','h','h','h','h','h','h','h','h','h','h','h','h','h','h','h','h','h','h','h','h','h','h','h','h','h','h','h','h','h','h','h','h','h','h','h','h','h','h','h','h','h','h','h','h','h','h','h','h','h','h','h','h']\n",
    "taco1 = ['h','h','h','h','h','h','h','h','h','h','h','h','h','h','h','h','h','h','h','h','h','h','h','h','h','h','h','h','h','h','h','h','h','h','h','h','h','h','h','h','h','h','h','h','h','h','h','h','h','h','h','h','h','h','h','h','h','h','h','h','h','h','h','h','h','h','h','h','h','h','h','h','h','h','h','h','h','h','h','s'] \n",
    "taco2 = ['h','h','h','h','h','h','h','h','h','h','h','h','h','h','h','h','h','h','h','h','h','h','h','h','h','h','h','h','h','h','h','h','h','h','h','h','h','h','h','h','h','h','h','h','h','h','h','h','h','h','h','h','h','h','h','h','h','h','h','h','h','h','h','h','h','h','h','h','h','h','h','h','h','h','h','s','s','s','s','s']\n",
    "taco3 = ['h','h','h','h','h','h','h','h','h','h','h','h','h','h','h','h','h','h','h','h','h','h','h','h','h','h','h','h','h','h','h','h','h','h','h','h','h','h','h','h','h','h','h','h','h','h','h','h','h','h','h','h','h','h','h','h','h','h','h','h','h','h','h','h','h','h','h','h','h','h','h','h','h','h','s','s','s','s','s','s']  \n",
    "taco4 = ['h','h','h','h','h','h','h','h','h','h','h','h','h','h','h','h','h','h','h','h','h','h','h','h','h','h','h','h','h','h','h','h','h','h','h','h','h','h','h','h','h','h','h','h','h','h','h','h','h','h','h','h','h','h','h','h','h','h','h','h','h','h','h','h','h','h','h','h','h','h','h','h','s','s','s','s','s','s','s','s']\n",
    "taco5 = ['h','h','h','h','h','h','h','h','h','h','h','h','h','h','h','h','h','h','h','h','h','h','h','h','h','h','h','h','h','h','h','h','h','h','h','h','h','h','h','h','h','h','h','h','h','h','h','h','h','h','h','h','h','h','h','h','h','h','h','h','h','h','h','h','h','h','h','h','h','s','s','s','s','s','s','s','s','s','s','s']\n",
    "  \n",
    "\n",
    "\n",
    "# aqL_batch_1 = scoreAQL(taco5)\n",
    "\n",
    "print(scoreAQL(taco5))\n",
    "\n",
    "# print(scoreAQL(taco1))\n",
    "# print(scoreAQL(taco2))\n",
    "# print(scoreAQL(taco3))\n",
    "# print(scoreAQL(taco4))\n",
    "# print(scoreAQL(taco5))"
   ]
  },
  {
   "cell_type": "code",
   "execution_count": 21,
   "metadata": {},
   "outputs": [
    {
     "name": "stdout",
     "output_type": "stream",
     "text": [
      "Lot AQL class 1 : sample of 80 apples contained 80 healthy apples and 0 sick apples\n",
      "batch 0 :  AQL class : 1\n",
      "Lot AQL class 2 : sample of 80 apples contained 79 healthy apples and 1 sick apples\n",
      "batch 1 :  AQL class : 2\n",
      "Lot AQL class 2 : sample of 80 apples contained 75 healthy apples and 5 sick apples\n",
      "batch 2 :  AQL class : 2\n",
      "Lot AQL class 3 : sample of 80 apples contained 74 healthy apples and 6 sick apples\n",
      "batch 3 :  AQL class : 3\n",
      "Lot AQL class 3 : sample of 80 apples contained 72 healthy apples and 8 sick apples\n",
      "batch 4 :  AQL class : 3\n",
      "Lot AQL class 4 : sample of 80 apples contained 69 healthy apples and 11 sick apples\n",
      "batch 5 :  AQL class : 4\n",
      "Lot AQL class 4 : sample of 80 apples contained 0 healthy apples and 80 sick apples\n",
      "batch 6 :  \n"
     ]
    }
   ],
   "source": [
    "# functie die het aantal gezonde appels uit de batch haalt \n",
    "# en vervolgens met de batch size en het aantal gezonde uit de AQL.csv database de score kan vinden\n",
    "\n",
    "\n",
    "def scoreAQL(batch):\n",
    "    # aql_classes variabele is een lijst met de grenswaardes voor het aantal zieke appels wat max aanwezig mag zijn voor de classificatie (0 voor klasse 1)\n",
    "    aql_classes = [0,5,10,11]\n",
    "    # batch size, enkel omdat later in de print statement eb statistieken voor de chatbot hier nog nut voor is\n",
    "    batch_size = len(batch)\n",
    "    # aanmaken van de klassificatie\n",
    "    batch_aql_class = ''\n",
    "\n",
    "    # Images other than normal\n",
    "    sick_in_batch_size = 0\n",
    " \n",
    "    for apple in batch:\n",
    "       # voor elk appeltje in de batch kijken of deze 'h' (healthy) is, en vervolgens bij elke die niet healthy is (dus ziek) het aantal zieken met 1 verhogen\n",
    "        if apple != 'h':\n",
    "            sick_in_batch_size += 1\n",
    "         #  print(sick_in_batch_size)\n",
    "            \n",
    "    for aqlClass in aql_classes:\n",
    "        # is het aantal zieken kleiner of gelijk aan het maximaal aantal zieken voor de klassificatie?\n",
    "        if sick_in_batch_size <= aqlClass:\n",
    "            # overschrijven van de variabele om te returnen\n",
    "            batch_aql_class = (f'AQL class : {aql_classes.index(aqlClass)+1}')\n",
    "            break\n",
    "\n",
    "            # hier printen we de klassificatie en wat statistieken, voor de SJET bot kunnen we hier iets inbouwen wat de statistieken gaat opslaan\n",
    "    print(f'Lot AQL class {aql_classes.index(aqlClass)+1} : sample of {batch_size} apples contained {batch_size -sick_in_batch_size} healthy apples and {sick_in_batch_size} sick apples')\n",
    "    return batch_aql_class\n",
    "\n",
    " \n",
    "taco0 = ['h','h','h','h','h','h','h','h','h','h','h','h','h','h','h','h','h','h','h','h','h','h','h','h','h','h','h','h','h','h','h','h','h','h','h','h','h','h','h','h','h','h','h','h','h','h','h','h','h','h','h','h','h','h','h','h','h','h','h','h','h','h','h','h','h','h','h','h','h','h','h','h','h','h','h','h','h','h','h','h']\n",
    "taco1 = ['h','h','h','h','h','h','h','h','h','h','h','h','h','h','h','h','h','h','h','h','h','h','h','h','h','h','h','h','h','h','h','h','h','h','h','h','h','h','h','h','h','h','h','h','h','h','h','h','h','h','h','h','h','h','h','h','h','h','h','h','h','h','h','h','h','h','h','h','h','h','h','h','h','h','h','h','h','h','h','s'] \n",
    "taco2 = ['h','h','h','h','h','h','h','h','h','h','h','h','h','h','h','h','h','h','h','h','h','h','h','h','h','h','h','h','h','h','h','h','h','h','h','h','h','h','h','h','h','h','h','h','h','h','h','h','h','h','h','h','h','h','h','h','h','h','h','h','h','h','h','h','h','h','h','h','h','h','h','h','h','h','h','s','s','s','s','s']\n",
    "taco3 = ['h','h','h','h','h','h','h','h','h','h','h','h','h','h','h','h','h','h','h','h','h','h','h','h','h','h','h','h','h','h','h','h','h','h','h','h','h','h','h','h','h','h','h','h','h','h','h','h','h','h','h','h','h','h','h','h','h','h','h','h','h','h','h','h','h','h','h','h','h','h','h','h','h','h','s','s','s','s','s','s']  \n",
    "taco4 = ['h','h','h','h','h','h','h','h','h','h','h','h','h','h','h','h','h','h','h','h','h','h','h','h','h','h','h','h','h','h','h','h','h','h','h','h','h','h','h','h','h','h','h','h','h','h','h','h','h','h','h','h','h','h','h','h','h','h','h','h','h','h','h','h','h','h','h','h','h','h','h','h','s','s','s','s','s','s','s','s']\n",
    "taco5 = ['h','h','h','h','h','h','h','h','h','h','h','h','h','h','h','h','h','h','h','h','h','h','h','h','h','h','h','h','h','h','h','h','h','h','h','h','h','h','h','h','h','h','h','h','h','h','h','h','h','h','h','h','h','h','h','h','h','h','h','h','h','h','h','h','h','h','h','h','h','s','s','s','s','s','s','s','s','s','s','s']\n",
    "taco6 = ['s','s','s','s','s','s','s','s','s','s','s','s','s','s','s','s','s','s','s','s','s','s','s','s','s','s','s','s','s','s','s','s','s','s','s','s','s','s','s','s','s','s','s','s','s','s','s','s','s','s','s','s','s','s','s','s','s','s','s','s','s','s','s','s','s','s','s','s','s','s','s','s','s','s','s','s','s','s','s','s']\n",
    "\n",
    "\n",
    "print(f'batch 0 : ',scoreAQL(taco0))\n",
    "print(f'batch 1 : ',scoreAQL(taco1))\n",
    "print(f'batch 2 : ',scoreAQL(taco2))\n",
    "print(f'batch 3 : ',scoreAQL(taco3))\n",
    "print(f'batch 4 : ',scoreAQL(taco4))\n",
    "print(f'batch 5 : ',scoreAQL(taco5))\n",
    "print(f'batch 6 : ',scoreAQL(taco6))"
   ]
  },
  {
   "cell_type": "code",
   "execution_count": null,
   "metadata": {},
   "outputs": [],
   "source": []
  }
 ],
 "metadata": {
  "kernelspec": {
   "display_name": "Python 3.11.0 ('env': venv)",
   "language": "python",
   "name": "python3"
  },
  "language_info": {
   "codemirror_mode": {
    "name": "ipython",
    "version": 3
   },
   "file_extension": ".py",
   "mimetype": "text/x-python",
   "name": "python",
   "nbconvert_exporter": "python",
   "pygments_lexer": "ipython3",
   "version": "3.11.0"
  },
  "orig_nbformat": 4,
  "vscode": {
   "interpreter": {
    "hash": "343175793893d94ad600fed4205d39857cd4175d02ecc054914f6e7a2056793d"
   }
  }
 },
 "nbformat": 4,
 "nbformat_minor": 2
}
