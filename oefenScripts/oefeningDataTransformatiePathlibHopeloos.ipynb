{
 "cells": [
  {
   "cell_type": "code",
   "execution_count": 38,
   "metadata": {},
   "outputs": [],
   "source": [
    "# data transformeren\n",
    "# we beginnen met de originele bestanden handigere namen geven namelijk : mapnaam_nummer_transformatie (transformatie alleen als die is toegepast)\n",
    "# dan maken we de getransformeerde bestanden (beginnende bij een kwart slag naar rechts draaien, dan nog eens en nog eens, benaming wordt mapnaam_nummer_rotated1,rotated2,rotated3)\n",
    "\n",
    "\n",
    "import pathlib\n",
    "from pathlib import Path\n",
    "\n",
    "count = 0\n",
    "\n",
    "# voor elk bestand in de map cwd/projects/data nieuwe naam = parentdirectory_volgnummer_transformatie (transformatie uiteraard als er ook daadwerkelijk is getransformeerd)\n",
    "currentWorkingDir = Path.cwd()\n",
    "\n",
    "dataDir = Path('C:/Users/Anton/MakeAIWork2/projects/apple_disease_classification/data')\n",
    "dataDirNew = Path('C:/Users/Anton/MakeAIWork2/projects/apple_disease_classification/data/Train - Augmented')\n",
    "for file in currentWorkingDir.glob('**/*.txt'):\n",
    "    # print(file.stem)\n",
    "    # transforms the count integer to a string in order to use zfil(4) to force the use of 4 spaces for each number. \n",
    "    # In order to later be able to accuratly sort the 1000+ images in each category \n",
    "    countStr = str(count)\n",
    "    count += 1\n",
    "    fileType = file.suffix\n",
    "    fileDir = file.parts[-2]\n",
    "    filePath = file.parent\n",
    "    # print(filePath)\n",
    "    # filePathNew = filePath.parent\n",
    "    fileNameNew = f'{filePath}\\{fileDir}_{countStr.zfill(4)}{fileType}'\n",
    "    #print(\"filenamenew :  \" ,fileNameNew)\n",
    "\n",
    "    file.rename(fileNameNew)\n"
   ]
  },
  {
   "cell_type": "code",
   "execution_count": 16,
   "metadata": {},
   "outputs": [
    {
     "name": "stdout",
     "output_type": "stream",
     "text": [
      "0001 taco\n",
      "0001 testBlah\n",
      "0001 testBlah\\testblakwadraat\n"
     ]
    }
   ],
   "source": [
    "for folder in Path().rglob(\"\"): # glob folders\n",
    "    if folder.name: \n",
    "        files = folder.rglob(\"*.txt\")\n",
    "        count, file in enumerate(files, start=1)\n",
    "        print(f\"{count:04}\", folder, file)"
   ]
  },
  {
   "cell_type": "code",
   "execution_count": 14,
   "metadata": {},
   "outputs": [
    {
     "name": "stdout",
     "output_type": "stream",
     "text": [
      "[WindowsPath('c:/Users/Anton/MakeAIWork2/oefenScripts'), WindowsPath('c:/Users/Anton/MakeAIWork2/oefenScripts'), WindowsPath('c:/Users/Anton/MakeAIWork2/oefenScripts'), WindowsPath('c:/Users/Anton/MakeAIWork2/oefenScripts'), WindowsPath('c:/Users/Anton/MakeAIWork2/oefenScripts/testBlah'), WindowsPath('c:/Users/Anton/MakeAIWork2/oefenScripts/testBlah'), WindowsPath('c:/Users/Anton/MakeAIWork2/oefenScripts/testBlah'), WindowsPath('c:/Users/Anton/MakeAIWork2/oefenScripts/testBlah'), WindowsPath('c:/Users/Anton/MakeAIWork2/oefenScripts/testBlah'), WindowsPath('c:/Users/Anton/MakeAIWork2/oefenScripts/testBlah'), WindowsPath('c:/Users/Anton/MakeAIWork2/oefenScripts/testBlah'), WindowsPath('c:/Users/Anton/MakeAIWork2/oefenScripts/testBlah'), WindowsPath('c:/Users/Anton/MakeAIWork2/oefenScripts/testBlah'), WindowsPath('c:/Users/Anton/MakeAIWork2/oefenScripts/testBlah'), WindowsPath('c:/Users/Anton/MakeAIWork2/oefenScripts/testBlah'), WindowsPath('c:/Users/Anton/MakeAIWork2/oefenScripts/testBlah'), WindowsPath('c:/Users/Anton/MakeAIWork2/oefenScripts/testBlah'), WindowsPath('c:/Users/Anton/MakeAIWork2/oefenScripts/testBlah/testblakwadraat')]\n"
     ]
    }
   ],
   "source": [
    "\n",
    "\n",
    "import pathlib\n",
    "from pathlib import Path\n",
    "# door de CWD zoeken naar alle txt bestanden\n",
    "\n",
    "# pad voor directory van huidige bestand aanmaken: \n",
    "taco = Path.cwd()\n",
    "# print(taco)\n",
    "# print(taco.parents[-1])\n",
    "\n",
    "\n",
    "# alles in c:/Users/Anton/MakeAIWork2/oefenScripts/testBlah\n",
    "# print(f'*/* commando',list(taco.glob('*/*.txt')))\n",
    "\n",
    "# alles in c:/Users/Anton/MakeAIWork2/oefenScripts\n",
    "# en ook alles onderliggend... \n",
    "# print(f'**/* commando',list(taco.glob('**/*.txt')))\n",
    "\n",
    "# alles in MIW2 map\n",
    "# print(f'**/* commando',list(taco.parent.glob('**/**/*.txt')))\n",
    "\n",
    "# alles uit huidige map laten zien: \n",
    "# print(f' iterdir ',list(taco.iterdir()))\n",
    "\n",
    "# controleren of de directory bestaat (goed is ingeladen)\n",
    "# dataDirNew.exists()\n",
    " \n",
    "print([x.parent for x in taco.glob('**/*.txt') if x.is_file()])"
   ]
  },
  {
   "cell_type": "code",
   "execution_count": 17,
   "metadata": {},
   "outputs": [
    {
     "name": "stdout",
     "output_type": "stream",
     "text": [
      "c:\\Users\\Anton\\MakeAIWork2\\oefenScripts\\00_pytorch_fundamentals.ipynb\n"
     ]
    }
   ],
   "source": [
    "\n",
    "\n",
    "import pathlib\n",
    "from pathlib import Path\n",
    "\n",
    "#alle bestanden in een directory in een lijst zetten\n",
    "\n",
    "#optie 1 ()\n",
    "path = Path.cwd()    \n",
    "taco = list(path.iterdir())\n",
    "\n",
    "#optie 2\n",
    "p = Path.cwd().glob('**/*')\n",
    "files = [x for x in p if x.is_file()]\n",
    "# print('path : ',path)\n",
    "# print('taco :',taco)\n",
    "# print('files : ',files)\n",
    "print(files[0])"
   ]
  },
  {
   "cell_type": "code",
   "execution_count": null,
   "metadata": {},
   "outputs": [],
   "source": [
    "p = Path('.')\n",
    "print(p)"
   ]
  },
  {
   "cell_type": "code",
   "execution_count": 4,
   "metadata": {},
   "outputs": [
    {
     "data": {
      "text/plain": [
       "'02'"
      ]
     },
     "execution_count": 4,
     "metadata": {},
     "output_type": "execute_result"
    }
   ],
   "source": [
    "bla = '2'\n",
    "bla.zfill(2)"
   ]
  },
  {
   "cell_type": "code",
   "execution_count": 2,
   "metadata": {},
   "outputs": [
    {
     "name": "stdout",
     "output_type": "stream",
     "text": [
      "current wd c:\\Users\\Anton\\MakeAIWork2\\oefenScripts\n",
      "home dir C:\\Users\\Anton\n"
     ]
    },
    {
     "data": {
      "text/plain": [
       "False"
      ]
     },
     "execution_count": 2,
     "metadata": {},
     "output_type": "execute_result"
    }
   ],
   "source": [
    "from pathlib import Path\n",
    "\n",
    "print(f'current wd {Path.cwd()}')\n",
    "print(f'home dir {Path.home()}')\n",
    "\n",
    "# checken of het pad bestaat: \n",
    "\n",
    "pad = Path('oefenScripts/dikke/harde/kaas')\n",
    "pad.exists()\n"
   ]
  },
  {
   "cell_type": "code",
   "execution_count": 26,
   "metadata": {},
   "outputs": [
    {
     "name": "stdout",
     "output_type": "stream",
     "text": [
      "c:\\Users\\Anton\\MakeAIWork2\\oefenScripts\\taco\\blah.txt\n",
      "False\n",
      "parentdir :  c:\\Users\\Anton\\MakeAIWork2\\oefenScripts\\taco\n",
      "grand parentdir :  c:\\Users\\Anton\\MakeAIWork2\\oefenScripts\n",
      "stem blah\n",
      "suffix .txt\n",
      "Is directory False\n",
      "Is file False\n",
      "Is file True\n"
     ]
    }
   ],
   "source": [
    "pad = Path.cwd() / \"taco\" / \"blah.txt\"\n",
    "pad2 = Path.cwd() / \"blah.txt\"\n",
    "print(pad)\n",
    "print(pad.exists())\n",
    "print(f\"parentdir : \",pad.parent)\n",
    "print(f\"grand parentdir : \",pad.parent.parent)\n",
    "print(f\"stem\",pad.stem)\n",
    "print(f\"suffix\",pad.suffix)\n",
    "print(f\"Is directory\",pad.is_dir())\n",
    "print(f\"Is file\",pad.is_file())\n",
    "new_file = Path.cwd() / \"blah.txt\"\n",
    "new_file.touch()\n",
    "print(f\"Is file\",pad2.is_file())\n",
    "# om te verwijderen .unlink\n",
    "new_dir = Path.cwd() / \"taco\"\n",
    "new_dir.mkdir()"
   ]
  },
  {
   "cell_type": "code",
   "execution_count": 2,
   "metadata": {},
   "outputs": [
    {
     "ename": "FileExistsError",
     "evalue": "[WinError 183] Cannot create a file when that file already exists: 'C:\\\\Users\\\\Anton\\\\MakeAIWork2\\\\projects\\\\apple_disease_classification\\\\data_augmented'",
     "output_type": "error",
     "traceback": [
      "\u001b[1;31m---------------------------------------------------------------------------\u001b[0m",
      "\u001b[1;31mFileExistsError\u001b[0m                           Traceback (most recent call last)",
      "Cell \u001b[1;32mIn [2], line 4\u001b[0m\n\u001b[0;32m      2\u001b[0m dataDir \u001b[39m=\u001b[39m Path(\u001b[39m'\u001b[39m\u001b[39mC:/Users/Anton/MakeAIWork2/projects/apple_disease_classification/data\u001b[39m\u001b[39m'\u001b[39m)\n\u001b[0;32m      3\u001b[0m dataDirNew \u001b[39m=\u001b[39m Path(\u001b[39m'\u001b[39m\u001b[39mC:/Users/Anton/MakeAIWork2/projects/apple_disease_classification/data_augmented\u001b[39m\u001b[39m'\u001b[39m)\n\u001b[1;32m----> 4\u001b[0m dataDirNew\u001b[39m.\u001b[39;49mmkdir()\n\u001b[0;32m      5\u001b[0m \u001b[39mprint\u001b[39m(dataDirNew\u001b[39m.\u001b[39mexists())\n",
      "File \u001b[1;32mc:\\Users\\Anton\\AppData\\Local\\Programs\\Python\\Python311\\Lib\\pathlib.py:1116\u001b[0m, in \u001b[0;36mPath.mkdir\u001b[1;34m(self, mode, parents, exist_ok)\u001b[0m\n\u001b[0;32m   1112\u001b[0m \u001b[39m\"\"\"\u001b[39;00m\n\u001b[0;32m   1113\u001b[0m \u001b[39mCreate a new directory at this given path.\u001b[39;00m\n\u001b[0;32m   1114\u001b[0m \u001b[39m\"\"\"\u001b[39;00m\n\u001b[0;32m   1115\u001b[0m \u001b[39mtry\u001b[39;00m:\n\u001b[1;32m-> 1116\u001b[0m     os\u001b[39m.\u001b[39;49mmkdir(\u001b[39mself\u001b[39;49m, mode)\n\u001b[0;32m   1117\u001b[0m \u001b[39mexcept\u001b[39;00m \u001b[39mFileNotFoundError\u001b[39;00m:\n\u001b[0;32m   1118\u001b[0m     \u001b[39mif\u001b[39;00m \u001b[39mnot\u001b[39;00m parents \u001b[39mor\u001b[39;00m \u001b[39mself\u001b[39m\u001b[39m.\u001b[39mparent \u001b[39m==\u001b[39m \u001b[39mself\u001b[39m:\n",
      "\u001b[1;31mFileExistsError\u001b[0m: [WinError 183] Cannot create a file when that file already exists: 'C:\\\\Users\\\\Anton\\\\MakeAIWork2\\\\projects\\\\apple_disease_classification\\\\data_augmented'"
     ]
    }
   ],
   "source": [
    "# from pathlib import Path\n",
    "# dataDir = Path('C:/Users/Anton/MakeAIWork2/projects/apple_disease_classification/data')\n",
    "# dataDirNew = Path('C:/Users/Anton/MakeAIWork2/projects/apple_disease_classification/data_augmented')\n",
    "# dataDirNew.mkdir()\n",
    "# print(dataDirNew.exists())"
   ]
  },
  {
   "cell_type": "code",
   "execution_count": null,
   "metadata": {},
   "outputs": [],
   "source": [
    "You can use .with_stem() to change the part before the extension.\n",
    "\n",
    ">>> file\n",
    "PosixPath('a/b/c/my-file-name.txt')\n",
    ">>> file.with_stem(\"0001\")\n",
    "PosixPath('a/b/c/0001.txt')\n",
    "\n",
    "You can pass this directly to .rename()\n",
    "\n",
    ">>> file.rename(file.with_stem(\"0001\"))\n",
    "PosixPath('a/b/c/0001.txt')\n",
    "\n",
    "The file has been renamed and stays in its original folder:\n",
    "\n",
    ">>> list(Path().glob(\"a/b/c/*txt\"))\n",
    "[PosixPath('a/b/c/0001.txt')]\n",
    "\n",
    "As for a different count per folder - you could glob each folder.\n",
    "\n",
    "You could also use enumerate() to count.\n",
    "\n",
    ">>> for folder in Path().rglob(\"\"): # glob folders\n",
    "...    if folder.name: \n",
    "...       files = folder.rglob(\"*.txt\")\n",
    "...       for count, file in enumerate(files, start=1):\n",
    "...          f\"{count:04}\", folder, file\n",
    "\n",
    "('0001', PosixPath('a'), PosixPath('a/b/c/0001.txt'))\n",
    "('0001', PosixPath('a/b'), PosixPath('a/b/c/0001.txt'))\n",
    "('0001', PosixPath('a/b/c'), PosixPath('a/b/c/0001.txt'))\n",
    "('0001', PosixPath('b'), PosixPath('b/a.txt'))\n",
    "('0002', PosixPath('b'), PosixPath('b/b.txt'))\n",
    "('0003', PosixPath('b'), PosixPath('b/c.txt'))\n",
    "('0004', PosixPath('b'), PosixPath('b/d.txt'))\n"
   ]
  },
  {
   "cell_type": "code",
   "execution_count": 19,
   "metadata": {},
   "outputs": [
    {
     "ename": "TypeError",
     "evalue": "'WindowsPath' object is not iterable",
     "output_type": "error",
     "traceback": [
      "\u001b[1;31m---------------------------------------------------------------------------\u001b[0m",
      "\u001b[1;31mTypeError\u001b[0m                                 Traceback (most recent call last)",
      "Cell \u001b[1;32mIn [19], line 1\u001b[0m\n\u001b[1;32m----> 1\u001b[0m \u001b[39mfor\u001b[39;00m directory \u001b[39min\u001b[39;00m taco:\n\u001b[0;32m      2\u001b[0m     \u001b[39mif\u001b[39;00m directory\u001b[39m.\u001b[39mis_dir:\n\u001b[0;32m      3\u001b[0m         count \u001b[39m=\u001b[39m \u001b[39m1\u001b[39m\n",
      "\u001b[1;31mTypeError\u001b[0m: 'WindowsPath' object is not iterable"
     ]
    }
   ],
   "source": [
    "for directory in taco:\n",
    "    if directory.is_dir:\n",
    "        count = 1\n",
    "        if file.is_file and file.suffix == 'txt':\n",
    "            print(file)\n",
    "            \n",
    "# wat ik wil kan dus niet... in plaats daarvan alle te veranderen bestanden in een lijst zetten lijkt me de oplossing... \n",
    "# en had ik ook gedaan als ik gewoon vanuit de notebook oefeningen was gegaan...\n",
    "\n",
    "#"
   ]
  },
  {
   "cell_type": "code",
   "execution_count": 49,
   "metadata": {},
   "outputs": [],
   "source": [
    "import pathlib\n",
    "from pathlib import Path\n",
    "\n",
    "count = 0\n",
    "\n",
    "# voor elk bestand in de map cwd/projects/data nieuwe naam = parentdirectory_volgnummer_transformatie (transformatie uiteraard als er ook daadwerkelijk is getransformeerd)\n",
    "currentWorkingDir = Path.cwd() / 'testBlah' / 'testblakwadraat'\n",
    "\n",
    "dataDir = Path('C:/Users/Anton/MakeAIWork2/projects/apple_disease_classification/data')\n",
    "dataDirNew = Path('C:/Users/Anton/MakeAIWork2/projects/apple_disease_classification/data/Train - Augmented')\n",
    "for file in dataDir.glob('*.txt'):\n",
    "    # print(file.stem)\n",
    "    # transforms the count integer to a string in order to use zfil(4) to force the use of 4 spaces for each number. \n",
    "    # In order to later be able to accuratly sort the 1000+ images in each category \n",
    "    countStr = str(count)\n",
    "    count += 1\n",
    "    fileType = file.suffix\n",
    "    fileDir = file.parts[-2]\n",
    "    filePath = file.parent\n",
    "    newFilePath = \n",
    "    # print(filePath)\n",
    "    # filePathNew = filePath.parent\n",
    "    fileNameNew = f'{filePath}\\{fileDir}_{countStr.zfill(4)}{fileType}'\n",
    "    print(\"filenamenew :  \" ,fileNameNew)\n",
    "\n",
    "    #file.rename(fileNameNew)"
   ]
  },
  {
   "cell_type": "code",
   "execution_count": null,
   "metadata": {},
   "outputs": [],
   "source": [
    "# alle images naar 350 x 350 omzetten\n",
    "cv2.imwrite(filename, image)"
   ]
  },
  {
   "cell_type": "code",
   "execution_count": null,
   "metadata": {},
   "outputs": [],
   "source": []
  },
  {
   "cell_type": "code",
   "execution_count": null,
   "metadata": {},
   "outputs": [],
   "source": []
  }
 ],
 "metadata": {
  "kernelspec": {
   "display_name": "Python 3.11.0 64-bit",
   "language": "python",
   "name": "python3"
  },
  "language_info": {
   "codemirror_mode": {
    "name": "ipython",
    "version": 3
   },
   "file_extension": ".py",
   "mimetype": "text/x-python",
   "name": "python",
   "nbconvert_exporter": "python",
   "pygments_lexer": "ipython3",
   "version": "3.11.0"
  },
  "orig_nbformat": 4,
  "vscode": {
   "interpreter": {
    "hash": "7e97f5d7a4c375eb4925ee130943e810ac592ae7c4a1755104059e2e960db3f6"
   }
  }
 },
 "nbformat": 4,
 "nbformat_minor": 2
}
