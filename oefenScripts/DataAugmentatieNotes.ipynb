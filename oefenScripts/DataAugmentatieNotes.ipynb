{
 "cells": [
  {
   "cell_type": "markdown",
   "metadata": {},
   "source": [
    "Data augmentatie: \n",
    "\n",
    "Data verdeeld in 4 klassen eindoel is 1000 per klasse om op te trainen,\n",
    "Huidige traindataset = \n",
    "    gezond : 67\n",
    "    blotch : 116\n",
    "    scab : 85\n",
    "    rot : 114\n",
    "Huidige Testdataset = \n",
    "    gezond : 24\n",
    "    blotch : 30\n",
    "    scab : 28\n",
    "    rot : 38\n",
    "\n",
    "\n",
    "\n",
    "\n",
    "    ALLE gezonde appels nemen en manipuleren\n",
    "    Dan de originele weer terugzetten en TRAINEN op de gemanipuleerde set (1000 per klasse)\n",
    "    Dan dus meer om te testen (we willen testen op echte appels niet gemanipuleerde, tenzij het gaat om 'reele manipulaties')\n",
    "\n",
    "Kwart slag draaien 3x voor elke foto => aantal x3\n",
    "ooooofff 4x per foto en dan random rotatie toepassen...\n",
    "\n",
    "verticale spiegeling => aantal x1\n",
    "\n",
    "Grijsschaal versie v/d foto => aantal x1\n",
    "    Dit is gewoon de (x,y,z) z dimensie van 3 naar 1 veranderen (delen duuuuhsch)\n",
    "\n",
    "Poster kleuren (elementair) => aantal x1\n",
    "\n",
    "Due tone (van pinetools, bulk versies) aantal x1\n",
    "\n",
    "tri en quad tone?\n",
    "\n",
    "Handmatig stukken van de onderscheidende stukken v/d appels uitknippen (10 per klasse en dan ook door de modificaties)\n",
    "\n"
   ]
  }
 ],
 "metadata": {
  "kernelspec": {
   "display_name": "Python 3.11.0 ('env': venv)",
   "language": "python",
   "name": "python3"
  },
  "language_info": {
   "name": "python",
   "version": "3.11.0"
  },
  "orig_nbformat": 4,
  "vscode": {
   "interpreter": {
    "hash": "343175793893d94ad600fed4205d39857cd4175d02ecc054914f6e7a2056793d"
   }
  }
 },
 "nbformat": 4,
 "nbformat_minor": 2
}
