{
 "cells": [
  {
   "cell_type": "markdown",
   "metadata": {},
   "source": [
    "# de AQL bepaling\n",
    "\n",
    "\n",
    "# Dit programma haalt een batch (lijst) van in te stellen grootte uit de test en validatie set \n",
    "# de samenstelling van de batch kan worden ingesteld: \n",
    "# (hoeveel totaal, hoeveel gezond, hoeveel blotch,scab,rot (OF random selectie(nice to have)))\n",
    "\n",
    "# deze lijst bevat een aantal (batchsize) appels in klassen uitgedrukt \n",
    "# [0 ='Blotch_Apple', 1='Normal_Apple',2= 'Rot_Apple', 3='Scab_Apple']\n",
    "# de lijst zou dus bijvoorbeeld kunnen zijn [1 1 3 1 1 1 2 1 0 1 1 1 1 1 1 1 1 1]\n",
    "\n",
    "# de lijst krijgt een AQL score en hieruit wordt deze in 1 van de 4 klassen ingedeeld:\n",
    "# Klasse 1: kwaliteit appels is goed genoeg om in supermarkt of bij groenteboer te liggen\n",
    "# Klasse 2: kwaliteit appels is goed genoeg voor verwerking in appelmoes\n",
    "# Klasse 3: kwaliteit appels is goed genoeg voor verwerking in stroop\n",
    "# Afgekeurd: kwaliteit is onvoldoende voor bovenstaande toepassingen\n",
    "\n",
    "# Er komt dus een functie (assign_AQL) die adhv de samenstelling van de lijst een AQL score gaat toezeggen\n",
    "\n",
    "# Er komt ook een functie die statistieken van de batch geeft (batch_Stats) zodat de chatbot iets heeft om aan te reiken nalv een verzoek\n",
    "# percentages van de klassen in de batch, aantallen van de klassen in de batch\n",
    "\n",
    "# De AQL waarde moet ongeacht de grootte van de lijst (batch) kunnen worden bepaald\n",
    "\n",
    "# Nadat de AQL wordt bepaald leid dit ook tot indeling van de batch onder een bijbehorende klasse\n",
    "\n",
    "## regels voor de AQL waarde:\n",
    "\n",
    "# lot size is 3201 - 10000\n",
    "# Klasse 1 : AQL <= 0.4\n",
    "# Klasse 2 : AQL > 0.4 < 2.5\n",
    "# Klasse 3 : AQL > 2.5 < 6.5\n",
    "# Klasse 4(afgekeurd) : AQL >= 6.5\n",
    "\n",
    "# De batchsize is bepalend voor de AQL berekening\n",
    "# mogelijke waardes voor de batchsize: \n",
    "\"\"\"\n",
    "C   5\n",
    "D   8\n",
    "F   20\n",
    "G   32\n",
    "J   80\n",
    "L   200\n",
    "M   315\n",
    "\"\"\"\n",
    "\n",
    "\n",
    "# de functie controleert dus adhv de batchsize en het aantal gezonde appels in de batch wat de AQL is \n",
    "\n",
    "### WE GEBRUIKEN GENERAL INSPECTION LEVEL 2 ( L op de tabel )### (Want het niveau is niet anders gespecificeerd en default daar dus naar)\n",
    "\"\"\"\n",
    "AANTALLEN DIE GEZOND MOETEN ZIJN OM AAN DE KLASSE TE VOLDOEN (dus is het aantal gezonde groter of gelijk aan waarde in tabel dan is de appel van die klasse (of hoger))\n",
    "Batch Size  | klasse 1  | klasse 2  | klasse 3  | klasse 4 \n",
    "5           |    5      |   5       |     5     |   < 5\n",
    "8           |    8      |   8       |     7     |   <7\n",
    "20          |    20     |   19      |     17    |   <17\n",
    "32          |    32     |   30      |     27    |   <27\n",
    "80          |    78     |   75      |     70    |   <70\n",
    "200         |    198    |   190     |     179   |   <179\n",
    "315         |    312    |   301     |     294   |   <294\n",
    "\n",
    "\"\"\""
   ]
  }
 ],
 "metadata": {
  "kernelspec": {
   "display_name": "Python 3.11.0 ('env': venv)",
   "language": "python",
   "name": "python3"
  },
  "language_info": {
   "name": "python",
   "version": "3.11.0"
  },
  "orig_nbformat": 4,
  "vscode": {
   "interpreter": {
    "hash": "343175793893d94ad600fed4205d39857cd4175d02ecc054914f6e7a2056793d"
   }
  }
 },
 "nbformat": 4,
 "nbformat_minor": 2
}
