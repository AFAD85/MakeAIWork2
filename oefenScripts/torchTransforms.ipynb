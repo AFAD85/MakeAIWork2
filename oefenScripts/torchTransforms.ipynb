{
 "cells": [
  {
   "cell_type": "code",
   "execution_count": 9,
   "metadata": {},
   "outputs": [],
   "source": [
    "import torch\n",
    "import torchvision.transforms as T\n",
    "from PIL import Image\n",
    "import numpy as np\n",
    "import matplotlib.pyplot as pltimg\n",
    "\n",
    "import cv2\n",
    "import numpy as np\n",
    "from pathlib import Path\n",
    "import cv2\n",
    "import numpy as np\n",
    "import random as ra\n",
    "import logging\n",
    "\n",
    "      \n",
    "        \n",
    "        \n",
    "# Relative paths\n",
    "trainDataDirBlotch = Path('../projects/apple_disease_classification/data_augmented_equal_flipped/Blotch_Apple')\n",
    "trainDataDirNormal = Path('../projects/apple_disease_classification/data_augmented_equal_flipped/Normal_Apple')\n",
    "trainDataDirRot = Path('../projects/apple_disease_classification/data_augmented_equal_flipped/Rot_Apple')\n",
    "trainDataDirScab = Path('../projects/apple_disease_classification/data_augmented_equal_flipped/Scab_Apple')\n",
    "dataDirs = [trainDataDirBlotch, trainDataDirNormal, trainDataDirRot, trainDataDirScab]\n",
    "# print(dataDirs)\n",
    "# print(Path.cwd())\n",
    "augmentType = 'grayscale'\n",
    "\n",
    "for dir in dataDirs:\n",
    "    count = 1\n",
    "    # print(dir)\n",
    "    for file in dir.glob('*.*'):\n",
    "        try:\n",
    "            # print(file)\n",
    "            #bestands object omzetten naar string\n",
    "            fileString = str(file)\n",
    "            img = Image.open(fileString)\n",
    "            #grayscale = cv2.cvtColor(img, cv2.COLORMAP_WINTER)\n",
    "            #grayscale = cv2.cvtColor(img, cv2.COLOR_BGR2GRAY)\n",
    "            #grayscale = cv2.cvtColor(img, cv2.COLORMAP_PLASMA)\n",
    "            transform = T.Grayscale(num_output_channels=3)\n",
    "            grayscale = transform(img)\n",
    "            #grayscale.show()\n",
    "            # print(grayscale)\n",
    "            countStr = str(count)\n",
    "            count += 1\n",
    "            fileType = file.suffix\n",
    "            fileDir = file.parts[-2]\n",
    "            filePath = file.parent.parent.parent / f'data_augmented_grayscale'\n",
    "            newFilePath = file.parent / augmentType\n",
    "            # print(newFilePath)\n",
    "            fileNameNew = f'{filePath}\\{fileDir}\\{fileDir}_{countStr.zfill(4)}_{augmentType}{fileType}'\n",
    "            targetDir = Path(f'{filePath}\\{fileDir}')\n",
    "            # print(targetDir)\n",
    "            if not targetDir.exists():\n",
    "                targetDir.mkdir()\n",
    "            fileNameNewString = str(fileNameNew)\n",
    "            #print(\"filenamenew :  \" ,fileNameNewString)\n",
    "\n",
    "            grayscale.save(fileNameNewString)\n",
    "            #cv2.imwrite(fileNameNewString, grayscale)\n",
    "        except:\n",
    "            pass"
   ]
  }
 ],
 "metadata": {
  "kernelspec": {
   "display_name": "Python 3.9.13 ('base')",
   "language": "python",
   "name": "python3"
  },
  "language_info": {
   "codemirror_mode": {
    "name": "ipython",
    "version": 3
   },
   "file_extension": ".py",
   "mimetype": "text/x-python",
   "name": "python",
   "nbconvert_exporter": "python",
   "pygments_lexer": "ipython3",
   "version": "3.9.13"
  },
  "orig_nbformat": 4,
  "vscode": {
   "interpreter": {
    "hash": "ad2bdc8ecc057115af97d19610ffacc2b4e99fae6737bb82f5d7fb13d2f2c186"
   }
  }
 },
 "nbformat": 4,
 "nbformat_minor": 2
}
