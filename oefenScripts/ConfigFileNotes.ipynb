{
 "cells": [
  {
   "cell_type": "code",
   "execution_count": 1,
   "metadata": {},
   "outputs": [],
   "source": [
    "import configparser"
   ]
  },
  {
   "cell_type": "code",
   "execution_count": 2,
   "metadata": {},
   "outputs": [],
   "source": [
    "# in de mainfile komt : \n",
    "#   import configparser\n",
    "\n",
    "# handig is dat de configs de meest recente pakken je kan dus iets doen in de trend van :\n",
    "# default (alle te configuren variabelen in hun default status), \n",
    "# en dan per appart geval de relevante variabelen overschrijven bijvoorbeeld als je dus verschillende modellen hebt dan krijg je defaul : \n",
    "# model 1 of model 2 en dan laad je dus de specifieke config die bij het model hoort over de default heen \n",
    "# (en waar er geen nieuwe waarde staat pak je dan automatisch de default waarde)\n",
    "\n",
    "\n",
    "# de manier waarop de config file wordt gelezen is erg basic namelijk : alles is voor de parser een string\n",
    "# willen we dus iets anders dan moeten we het aangeven bijvoorbeeld: \n",
    "# in de config file staat Zoomfactor = 22.3 ## LET OP blijkbaar schrijven we in een config file de variabele namen met een hoofdletter?\n",
    "# als we dan de zoomfactor uit de config halen is dat een string '22.3'\n",
    "# maar we willen eigenlijk een float dan lossen we dat op door : \n",
    "# float(configuratienaamkomthier['Zoomfactor'])\n",
    "\n"
   ]
  },
  {
   "cell_type": "markdown",
   "metadata": {},
   "source": [
    "[Simple Values]\n",
    "key=value\n",
    "spaces in keys=allowed\n",
    "spaces in values=allowed as well\n",
    "spaces around the delimiter = obviously\n",
    "you can also use : to delimit keys from values\n",
    "\n",
    "[All Values Are Strings]\n",
    "values like this: 1000000\n",
    "or this: 3.14159265359\n",
    "are they treated as numbers? : no\n",
    "integers, floats and booleans are held as: strings\n",
    "can use the API to get converted values directly: true\n",
    "\n",
    "[Multiline Values]\n",
    "chorus: I'm a lumberjack, and I'm okay\n",
    "    I sleep all night and I work all day\n",
    "\n",
    "[No Values]\n",
    "key_without_value\n",
    "empty string value here =\n",
    "\n",
    "[You can use comments]\n",
    "# like this\n",
    "; or this\n",
    "\n",
    "# By default only in an empty line.\n",
    "# Inline comments can be harmful because they prevent users\n",
    "# from using the delimiting characters as parts of values.\n",
    "# That being said, this can be customized.\n",
    "\n",
    "    [Sections Can Be Indented]\n",
    "        can_values_be_as_well = True\n",
    "        does_that_mean_anything_special = False\n",
    "        purpose = formatting for readability\n",
    "        multiline_values = are\n",
    "            handled just fine as\n",
    "            long as they are indented\n",
    "            deeper than the first line\n",
    "            of a value\n",
    "        # Did I mention we can indent comments, too?"
   ]
  },
  {
   "cell_type": "markdown",
   "metadata": {},
   "source": [
    "Voorbeeld van : https://docs.python.org/3/library/configparser.html\n",
    "\n",
    "Voorbeeld config bestand : \n",
    "\n",
    "[DEFAULT]\n",
    "ServerAliveInterval = 45\n",
    "Compression = yes\n",
    "CompressionLevel = 9\n",
    "ForwardX11 = yes\n",
    "\n",
    "[bitbucket.org]\n",
    "User = hg\n",
    "\n",
    "[topsecret.server.com]\n",
    "Port = 50022\n",
    "ForwardX11 = no"
   ]
  },
  {
   "cell_type": "markdown",
   "metadata": {},
   "source": []
  },
  {
   "cell_type": "markdown",
   "metadata": {},
   "source": []
  },
  {
   "cell_type": "markdown",
   "metadata": {},
   "source": []
  }
 ],
 "metadata": {
  "kernelspec": {
   "display_name": "Python 3.11.0 64-bit",
   "language": "python",
   "name": "python3"
  },
  "language_info": {
   "codemirror_mode": {
    "name": "ipython",
    "version": 3
   },
   "file_extension": ".py",
   "mimetype": "text/x-python",
   "name": "python",
   "nbconvert_exporter": "python",
   "pygments_lexer": "ipython3",
   "version": "3.11.0"
  },
  "orig_nbformat": 4,
  "vscode": {
   "interpreter": {
    "hash": "7e97f5d7a4c375eb4925ee130943e810ac592ae7c4a1755104059e2e960db3f6"
   }
  }
 },
 "nbformat": 4,
 "nbformat_minor": 2
}
