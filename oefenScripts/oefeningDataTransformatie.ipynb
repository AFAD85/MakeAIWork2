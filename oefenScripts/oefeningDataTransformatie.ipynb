{
 "cells": [
  {
   "cell_type": "code",
   "execution_count": 16,
   "metadata": {},
   "outputs": [
    {
     "ename": "TypeError",
     "evalue": "'WindowsPath' object is not iterable",
     "output_type": "error",
     "traceback": [
      "\u001b[1;31m---------------------------------------------------------------------------\u001b[0m",
      "\u001b[1;31mTypeError\u001b[0m                                 Traceback (most recent call last)",
      "Cell \u001b[1;32mIn [16], line 15\u001b[0m\n\u001b[0;32m     13\u001b[0m dataDir \u001b[39m=\u001b[39m Path(\u001b[39m'\u001b[39m\u001b[39m'\u001b[39m)\n\u001b[0;32m     14\u001b[0m \u001b[39mfor\u001b[39;00m directory \u001b[39min\u001b[39;00m dataDir\u001b[39m.\u001b[39mrglob(\u001b[39m'\u001b[39m\u001b[39m'\u001b[39m):\n\u001b[1;32m---> 15\u001b[0m     \u001b[39mfor\u001b[39;00m file \u001b[39min\u001b[39;00m directory:\n\u001b[0;32m     16\u001b[0m         count \u001b[39m=\u001b[39m \u001b[39m0\u001b[39m\n\u001b[0;32m     17\u001b[0m         \u001b[39mif\u001b[39;00m file\u001b[39m.\u001b[39msuffix \u001b[39m==\u001b[39m \u001b[39m'\u001b[39m\u001b[39m.jpg\u001b[39m\u001b[39m'\u001b[39m:\n",
      "\u001b[1;31mTypeError\u001b[0m: 'WindowsPath' object is not iterable"
     ]
    }
   ],
   "source": [
    "# data transformeren\n",
    "# we beginnen met de originele bestanden handigere namen geven namelijk : mapnaam_nummer_transformatie (transformatie alleen als die is toegepast)\n",
    "# dan maken we de getransformeerde bestanden (beginnende bij een kwart slag naar rechts draaien, dan nog eens en nog eens, benaming wordt mapnaam_nummer_rotated1,rotated2,rotated3)\n",
    "\n",
    "\n",
    "import pathlib\n",
    "from pathlib import Path\n",
    "\n",
    "\n",
    "\n",
    "# voor elk bestand in de map cwd/projects/data nieuwe naam = parentdirectory_volgnummer_transformatie (transformatie uiteraard als er ook daadwerkelijk is getransformeerd)\n",
    "\n",
    "dataDir = Path('C:/Users/Anton/MakeAIWork2/projects/apple_disease_classification/data')\n",
    "for directory in dataDir.rglob(''):\n",
    "    for file in directory:\n",
    "        count = 0\n",
    "        countStr = str(count)\n",
    "        # transforms the count integer to a string in order to use zfil(4) to force the use of 4 spaces for each number. \n",
    "        # In order to later be able to accuratly sort the 1000+ images in each category\n",
    "        if file.suffix == '.jpg':\n",
    "            count += 1\n",
    "            fileName = file.stem\n",
    "            fileType = file.suffix\n",
    "            filePath = file.parent\n",
    "            fileNameNew = f'{filePath}_{countStr.zfil(4)}{fileType}'\n",
    "            file.rename(file.parent / fileNameNew)"
   ]
  },
  {
   "cell_type": "code",
   "execution_count": 13,
   "metadata": {},
   "outputs": [
    {
     "name": "stdout",
     "output_type": "stream",
     "text": [
      ".\n"
     ]
    }
   ],
   "source": [
    "p = Path('.')\n",
    "print(p)"
   ]
  },
  {
   "cell_type": "code",
   "execution_count": 4,
   "metadata": {},
   "outputs": [
    {
     "data": {
      "text/plain": [
       "'02'"
      ]
     },
     "execution_count": 4,
     "metadata": {},
     "output_type": "execute_result"
    }
   ],
   "source": [
    "bla = '2'\n",
    "bla.zfill(2)"
   ]
  },
  {
   "cell_type": "code",
   "execution_count": 2,
   "metadata": {},
   "outputs": [
    {
     "name": "stdout",
     "output_type": "stream",
     "text": [
      "current wd c:\\Users\\Anton\\MakeAIWork2\\oefenScripts\n",
      "home dir C:\\Users\\Anton\n"
     ]
    },
    {
     "data": {
      "text/plain": [
       "False"
      ]
     },
     "execution_count": 2,
     "metadata": {},
     "output_type": "execute_result"
    }
   ],
   "source": [
    "from pathlib import Path\n",
    "\n",
    "print(f'current wd {Path.cwd()}')\n",
    "print(f'home dir {Path.home()}')\n",
    "\n",
    "# checken of het pad bestaat: \n",
    "\n",
    "pad = Path('oefenScripts/dikke/harde/kaas')\n",
    "pad.exists()\n"
   ]
  },
  {
   "cell_type": "code",
   "execution_count": 26,
   "metadata": {},
   "outputs": [
    {
     "name": "stdout",
     "output_type": "stream",
     "text": [
      "c:\\Users\\Anton\\MakeAIWork2\\oefenScripts\\taco\\blah.txt\n",
      "False\n",
      "parentdir :  c:\\Users\\Anton\\MakeAIWork2\\oefenScripts\\taco\n",
      "grand parentdir :  c:\\Users\\Anton\\MakeAIWork2\\oefenScripts\n",
      "stem blah\n",
      "suffix .txt\n",
      "Is directory False\n",
      "Is file False\n",
      "Is file True\n"
     ]
    }
   ],
   "source": [
    "pad = Path.cwd() / \"taco\" / \"blah.txt\"\n",
    "pad2 = Path.cwd() / \"blah.txt\"\n",
    "print(pad)\n",
    "print(pad.exists())\n",
    "print(f\"parentdir : \",pad.parent)\n",
    "print(f\"grand parentdir : \",pad.parent.parent)\n",
    "print(f\"stem\",pad.stem)\n",
    "print(f\"suffix\",pad.suffix)\n",
    "print(f\"Is directory\",pad.is_dir())\n",
    "print(f\"Is file\",pad.is_file())\n",
    "new_file = Path.cwd() / \"blah.txt\"\n",
    "new_file.touch()\n",
    "print(f\"Is file\",pad2.is_file())\n",
    "# om te verwijderen .unlink\n",
    "new_dir = Path.cwd() / \"taco\"\n",
    "new_dir.mkdir()"
   ]
  }
 ],
 "metadata": {
  "kernelspec": {
   "display_name": "Python 3.11.0 64-bit",
   "language": "python",
   "name": "python3"
  },
  "language_info": {
   "codemirror_mode": {
    "name": "ipython",
    "version": 3
   },
   "file_extension": ".py",
   "mimetype": "text/x-python",
   "name": "python",
   "nbconvert_exporter": "python",
   "pygments_lexer": "ipython3",
   "version": "3.11.0"
  },
  "orig_nbformat": 4,
  "vscode": {
   "interpreter": {
    "hash": "7e97f5d7a4c375eb4925ee130943e810ac592ae7c4a1755104059e2e960db3f6"
   }
  }
 },
 "nbformat": 4,
 "nbformat_minor": 2
}
