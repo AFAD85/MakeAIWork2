{
 "cells": [
  {
   "cell_type": "code",
   "execution_count": 16,
   "metadata": {},
   "outputs": [
    {
     "ename": "TypeError",
     "evalue": "'WindowsPath' object is not iterable",
     "output_type": "error",
     "traceback": [
      "\u001b[1;31m---------------------------------------------------------------------------\u001b[0m",
      "\u001b[1;31mTypeError\u001b[0m                                 Traceback (most recent call last)",
      "Cell \u001b[1;32mIn [16], line 15\u001b[0m\n\u001b[0;32m     13\u001b[0m dataDir \u001b[39m=\u001b[39m Path(\u001b[39m'\u001b[39m\u001b[39m'\u001b[39m)\n\u001b[0;32m     14\u001b[0m \u001b[39mfor\u001b[39;00m directory \u001b[39min\u001b[39;00m dataDir\u001b[39m.\u001b[39mrglob(\u001b[39m'\u001b[39m\u001b[39m'\u001b[39m):\n\u001b[1;32m---> 15\u001b[0m     \u001b[39mfor\u001b[39;00m file \u001b[39min\u001b[39;00m directory:\n\u001b[0;32m     16\u001b[0m         count \u001b[39m=\u001b[39m \u001b[39m0\u001b[39m\n\u001b[0;32m     17\u001b[0m         \u001b[39mif\u001b[39;00m file\u001b[39m.\u001b[39msuffix \u001b[39m==\u001b[39m \u001b[39m'\u001b[39m\u001b[39m.jpg\u001b[39m\u001b[39m'\u001b[39m:\n",
      "\u001b[1;31mTypeError\u001b[0m: 'WindowsPath' object is not iterable"
     ]
    }
   ],
   "source": [
    "# data transformeren\n",
    "# we beginnen met de originele bestanden handigere namen geven namelijk : mapnaam_nummer_transformatie (transformatie alleen als die is toegepast)\n",
    "# dan maken we de getransformeerde bestanden (beginnende bij een kwart slag naar rechts draaien, dan nog eens en nog eens, benaming wordt mapnaam_nummer_rotated1,rotated2,rotated3)\n",
    "\n",
    "\n",
    "import pathlib\n",
    "from pathlib import Path\n",
    "\n",
    "\n",
    "\n",
    "# voor elk bestand in de map cwd/projects/data nieuwe naam = parentdirectory_volgnummer_transformatie\n",
    "\n",
    "dataDir = Path('')\n",
    "for directory in dataDir.rglob(''):\n",
    "    for file in directory:\n",
    "        count = 0\n",
    "        if file.suffix == '.jpg':\n",
    "            count += 1\n",
    "            fileName = file.stem\n",
    "            fileType = file.suffix\n",
    "            filePath = file.parent\n",
    "            fileNameNew = f'{filePath}_{count}{fileType}'\n",
    "            file.rename(file.parent / fileNameNew)"
   ]
  },
  {
   "cell_type": "code",
   "execution_count": 13,
   "metadata": {},
   "outputs": [
    {
     "name": "stdout",
     "output_type": "stream",
     "text": [
      ".\n"
     ]
    }
   ],
   "source": [
    "p = Path('.')\n",
    "print(p)"
   ]
  },
  {
   "cell_type": "code",
   "execution_count": null,
   "metadata": {},
   "outputs": [],
   "source": []
  },
  {
   "cell_type": "code",
   "execution_count": null,
   "metadata": {},
   "outputs": [],
   "source": []
  },
  {
   "cell_type": "code",
   "execution_count": null,
   "metadata": {},
   "outputs": [],
   "source": []
  }
 ],
 "metadata": {
  "kernelspec": {
   "display_name": "Python 3.10.6 ('env': venv)",
   "language": "python",
   "name": "python3"
  },
  "language_info": {
   "codemirror_mode": {
    "name": "ipython",
    "version": 3
   },
   "file_extension": ".py",
   "mimetype": "text/x-python",
   "name": "python",
   "nbconvert_exporter": "python",
   "pygments_lexer": "ipython3",
   "version": "3.10.6"
  },
  "orig_nbformat": 4,
  "vscode": {
   "interpreter": {
    "hash": "343175793893d94ad600fed4205d39857cd4175d02ecc054914f6e7a2056793d"
   }
  }
 },
 "nbformat": 4,
 "nbformat_minor": 2
}
