{
 "cells": [
  {
   "cell_type": "code",
   "execution_count": 1,
   "metadata": {},
   "outputs": [
    {
     "name": "stderr",
     "output_type": "stream",
     "text": [
      "Dataset plugin for eurosat not found. Path to the local dataset will be returned.\n",
      "Missing deel.datasets user settings file, using default configuration. Create a configuration file at C:\\Users\\jeroe\\.deel\\config.yml or set the DEEL_CONFIGURATION_FILE environment variable accordingly.\n"
     ]
    },
    {
     "ename": "DatasetNotFoundError",
     "evalue": "Dataset eurosat not found.",
     "output_type": "error",
     "traceback": [
      "\u001b[1;31m---------------------------------------------------------------------------\u001b[0m",
      "\u001b[1;31mDatasetNotFoundError\u001b[0m                      Traceback (most recent call last)",
      "Cell \u001b[1;32mIn [1], line 4\u001b[0m\n\u001b[0;32m      1\u001b[0m \u001b[38;5;28;01mimport\u001b[39;00m \u001b[38;5;21;01mdeel\u001b[39;00m\u001b[38;5;21;01m.\u001b[39;00m\u001b[38;5;21;01mdatasets\u001b[39;00m\n\u001b[0;32m      3\u001b[0m \u001b[38;5;66;03m# Load the default mode of eurosat dataset:\u001b[39;00m\n\u001b[1;32m----> 4\u001b[0m eurosat_data_path \u001b[38;5;241m=\u001b[39m \u001b[43mdeel\u001b[49m\u001b[38;5;241;43m.\u001b[39;49m\u001b[43mdatasets\u001b[49m\u001b[38;5;241;43m.\u001b[39;49m\u001b[43mload\u001b[49m\u001b[43m(\u001b[49m\u001b[38;5;124;43m\"\u001b[39;49m\u001b[38;5;124;43meurosat\u001b[39;49m\u001b[38;5;124;43m\"\u001b[39;49m\u001b[43m)\u001b[49m\n",
      "File \u001b[1;32m~\\workspace\\MakeAIWork2\\env\\lib\\site-packages\\deel\\datasets\\__init__.py:116\u001b[0m, in \u001b[0;36mload\u001b[1;34m(dataset, mode, version, force_update, with_info, settings, **kwargs)\u001b[0m\n\u001b[0;32m    113\u001b[0m     \u001b[38;5;28;01mreturn\u001b[39;00m dataset_object\n\u001b[0;32m    115\u001b[0m \u001b[38;5;66;03m# Create the dataset object and load:\u001b[39;00m\n\u001b[1;32m--> 116\u001b[0m \u001b[38;5;28;01mreturn\u001b[39;00m dataset_object\u001b[38;5;241m.\u001b[39mload(\n\u001b[0;32m    117\u001b[0m     mode\u001b[38;5;241m=\u001b[39mmode, force_update\u001b[38;5;241m=\u001b[39mforce_update, with_info\u001b[38;5;241m=\u001b[39mwith_info, \u001b[38;5;241m*\u001b[39m\u001b[38;5;241m*\u001b[39mkwargs\n\u001b[0;32m    118\u001b[0m )\n",
      "File \u001b[1;32m~\\workspace\\MakeAIWork2\\env\\lib\\site-packages\\deel\\datasets\\dataset.py:286\u001b[0m, in \u001b[0;36mDataset.load\u001b[1;34m(self, mode, with_info, force_update, **kwargs)\u001b[0m\n\u001b[0;32m    283\u001b[0m     \u001b[38;5;28;01mraise\u001b[39;00m InvalidModeError(\u001b[38;5;28mself\u001b[39m, mode)\n\u001b[0;32m    285\u001b[0m \u001b[38;5;28;01mwith\u001b[39;00m \u001b[38;5;28mself\u001b[39m\u001b[38;5;241m.\u001b[39m_get_provider() \u001b[38;5;28;01mas\u001b[39;00m provider:\n\u001b[1;32m--> 286\u001b[0m     path, version \u001b[38;5;241m=\u001b[39m \u001b[43mprovider\u001b[49m\u001b[38;5;241;43m.\u001b[39;49m\u001b[43mget_folder\u001b[49m\u001b[43m(\u001b[49m\n\u001b[0;32m    287\u001b[0m \u001b[43m        \u001b[49m\u001b[38;5;28;43mself\u001b[39;49m\u001b[38;5;241;43m.\u001b[39;49m\u001b[43m_name\u001b[49m\u001b[43m,\u001b[49m\n\u001b[0;32m    288\u001b[0m \u001b[43m        \u001b[49m\u001b[38;5;28;43mself\u001b[39;49m\u001b[38;5;241;43m.\u001b[39;49m\u001b[43m_version\u001b[49m\u001b[43m,\u001b[49m\n\u001b[0;32m    289\u001b[0m \u001b[43m        \u001b[49m\u001b[43mforce_update\u001b[49m\u001b[38;5;241;43m=\u001b[39;49m\u001b[43mforce_update\u001b[49m\u001b[43m,\u001b[49m\n\u001b[0;32m    290\u001b[0m \u001b[43m        \u001b[49m\u001b[43mreturns_version\u001b[49m\u001b[38;5;241;43m=\u001b[39;49m\u001b[38;5;28;43;01mTrue\u001b[39;49;00m\u001b[43m,\u001b[49m\n\u001b[0;32m    291\u001b[0m \u001b[43m    \u001b[49m\u001b[43m)\u001b[49m\n\u001b[0;32m    293\u001b[0m \u001b[38;5;66;03m# Update version:\u001b[39;00m\n\u001b[0;32m    294\u001b[0m \u001b[38;5;28mself\u001b[39m\u001b[38;5;241m.\u001b[39m_info[\u001b[38;5;124m\"\u001b[39m\u001b[38;5;124mversion\u001b[39m\u001b[38;5;124m\"\u001b[39m] \u001b[38;5;241m=\u001b[39m version\n",
      "File \u001b[1;32m~\\workspace\\MakeAIWork2\\env\\lib\\site-packages\\deel\\datasets\\providers\\local_provider.py:160\u001b[0m, in \u001b[0;36mLocalProvider.get_folder\u001b[1;34m(self, name, version, force_update, returns_version)\u001b[0m\n\u001b[0;32m    157\u001b[0m path \u001b[38;5;241m=\u001b[39m \u001b[38;5;28mself\u001b[39m\u001b[38;5;241m.\u001b[39m_make_folder(name)\n\u001b[0;32m    159\u001b[0m \u001b[38;5;28;01mif\u001b[39;00m \u001b[38;5;129;01mnot\u001b[39;00m path\u001b[38;5;241m.\u001b[39mexists():\n\u001b[1;32m--> 160\u001b[0m     \u001b[38;5;28;01mraise\u001b[39;00m DatasetNotFoundError(name)\n\u001b[0;32m    162\u001b[0m \u001b[38;5;66;03m# Find the matching version:\u001b[39;00m\n\u001b[0;32m    163\u001b[0m \u001b[38;5;28;01mtry\u001b[39;00m:\n",
      "\u001b[1;31mDatasetNotFoundError\u001b[0m: Dataset eurosat not found."
     ]
    }
   ],
   "source": [
    "import deel.datasets\n",
    "\n",
    "# Load the default mode of eurosat dataset:\n",
    "eurosat_data_path = deel.datasets.load(\"eurosat\")"
   ]
  },
  {
   "cell_type": "code",
   "execution_count": null,
   "metadata": {},
   "outputs": [],
   "source": []
  }
 ],
 "metadata": {
  "kernelspec": {
   "display_name": "Python 3 (ipykernel)",
   "language": "python",
   "name": "python3"
  },
  "language_info": {
   "codemirror_mode": {
    "name": "ipython",
    "version": 3
   },
   "file_extension": ".py",
   "mimetype": "text/x-python",
   "name": "python",
   "nbconvert_exporter": "python",
   "pygments_lexer": "ipython3",
   "version": "3.10.7"
  }
 },
 "nbformat": 4,
 "nbformat_minor": 4
}
