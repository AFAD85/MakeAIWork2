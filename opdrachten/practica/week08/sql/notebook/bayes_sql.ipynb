{
 "cells": [
  {
   "cell_type": "markdown",
   "id": "ce776e9e-e316-4a03-ad68-d9e0a090b894",
   "metadata": {},
   "source": [
    "<a href=\"https://it-omscholing.nl/locaties/hogeschool-rotterdam/\">\n",
    "<div>\n",
    "<a><img src='pics/banner.PNG'/></a>\n",
    "</div>\n",
    "<div>\n",
    "<a href=''><img src='pics/miw.PNG'/></a>\n",
    "<em>Author: Jeroen Boogaard</em>\n",
    "</div>\n",
    "</a>"
   ]
  },
  {
   "cell_type": "markdown",
   "id": "b57ce072-c647-44a4-8078-07045ee55df9",
   "metadata": {},
   "source": [
    "<h1>Practicum Basis Statistiek / SQL </h1>"
   ]
  },
  {
   "cell_type": "markdown",
   "id": "9f080c20-09e7-415e-b4b8-91b340464972",
   "metadata": {},
   "source": [
    "<h2>Imports<h2>"
   ]
  },
  {
   "cell_type": "code",
   "execution_count": 3,
   "id": "fc9cc22c-9b16-4f97-be97-65fa68a4f5b6",
   "metadata": {},
   "outputs": [],
   "source": [
    "from matplotlib import pyplot as plt\n",
    "from matplotlib_venn import venn2, venn3\n",
    "from PIL import Image\n",
    "import pandas as pd\n",
    "import sqlite3"
   ]
  },
  {
   "cell_type": "markdown",
   "id": "206be2e2-1646-4b41-bc5d-e23ca9ce2199",
   "metadata": {},
   "source": [
    "<h2>Structured Query Language</h2>"
   ]
  },
  {
   "cell_type": "code",
   "execution_count": 4,
   "id": "3dc0221e-2539-46d5-9b46-f5031b987547",
   "metadata": {},
   "outputs": [],
   "source": [
    "#  https://raw.githubusercontent.com/ajturner/acetate/master/places/Countries-Europe.csv\n",
    "csvFile = \"csv/countries_europe.csv\"\n",
    "\n",
    " # Load CSV data into Pandas DataFrame\n",
    "europeDF = pd.read_csv(csvFile)"
   ]
  },
  {
   "cell_type": "code",
   "execution_count": 6,
   "id": "5e61d66c-78ec-4798-87ec-16a553d286ae",
   "metadata": {},
   "outputs": [
    {
     "ename": "OperationalError",
     "evalue": "unable to open database file",
     "output_type": "error",
     "traceback": [
      "\u001b[1;31m---------------------------------------------------------------------------\u001b[0m",
      "\u001b[1;31mOperationalError\u001b[0m                          Traceback (most recent call last)",
      "Cell \u001b[1;32mIn [6], line 2\u001b[0m\n\u001b[0;32m      1\u001b[0m \u001b[39m# Connect to SQLite database\u001b[39;00m\n\u001b[1;32m----> 2\u001b[0m dbConnection \u001b[39m=\u001b[39m sqlite3\u001b[39m.\u001b[39;49mconnect(\u001b[39m'\u001b[39;49m\u001b[39mdb/europe.db\u001b[39;49m\u001b[39m'\u001b[39;49m)\n\u001b[0;32m      3\u001b[0m dbCursor \u001b[39m=\u001b[39m dbConnection\u001b[39m.\u001b[39mcursor()\n\u001b[0;32m      5\u001b[0m europeDF\u001b[39m.\u001b[39mto_sql(\u001b[39m'\u001b[39m\u001b[39mcountries\u001b[39m\u001b[39m'\u001b[39m, dbConnection, if_exists\u001b[39m=\u001b[39m\u001b[39m'\u001b[39m\u001b[39mreplace\u001b[39m\u001b[39m'\u001b[39m, index \u001b[39m=\u001b[39m \u001b[39mFalse\u001b[39;00m)\n",
      "\u001b[1;31mOperationalError\u001b[0m: unable to open database file"
     ]
    }
   ],
   "source": [
    "# Connect to SQLite database\n",
    "dbConnection = sqlite3.connect('db/europe.db')\n",
    "dbCursor = dbConnection.cursor()\n",
    "\n",
    "europeDF.to_sql('countries', dbConnection, if_exists='replace', index = False)\n",
    "\n",
    "result = dbCursor.execute('SELECT name, abbreviation FROM countries;').fetchall()\n",
    "print(result)\n",
    "\n",
    "# Close connection to SQLite database\n",
    "dbConnection.close()"
   ]
  },
  {
   "cell_type": "markdown",
   "id": "7456c7a9-21d3-43a7-8762-5d6dd02b6add",
   "metadata": {},
   "source": [
    "<h2>Afhankelijke en onafhankelijke variabelen</h2>"
   ]
  },
  {
   "cell_type": "markdown",
   "id": "b924f686-642d-41a9-b61b-cb01c19bda29",
   "metadata": {},
   "source": [
    "<h3>Overlappende uitkomsten</h3>"
   ]
  },
  {
   "cell_type": "code",
   "execution_count": 10,
   "id": "4e029cc4-5080-4cf7-a8f1-c609b3357ebd",
   "metadata": {},
   "outputs": [],
   "source": [
    "benelux = {\"Belgium\", \"The Netherlands\", \"Luxembourg\"}\n",
    "nordics = {\"Denmark\", \"Finland\", \"Iceland\", \"Norway\", \"Sweden\"}\n",
    "baltics = {\"Estonia\", \"Latvia\", \"Lithuania\"}\n",
    "eu = {\"Austria\", \"Belgium\", \"Bulgaria\", \"Croatia\", \"Cyprus\", \"Czechia\", \"Denmark\", \"Estonia\", \"Finland\", \"France\", \"Germany\", \"Greece\", \"Hungary\", \"Ireland\", \"Italy\", \"Latvia\", \"Lithuania\", \"Luxembourg\", \"Malta\", \"The Netherlands\", \"Poland\", \"Portugal\", \"Romania\", \"Slovakia\", \"Slovenia\", \"Spain\", \"Sweden\"}"
   ]
  },
  {
   "cell_type": "code",
   "execution_count": 12,
   "id": "e5db0cea-3fe2-4e22-b6d1-f511e4a7bc99",
   "metadata": {},
   "outputs": [
    {
     "ename": "TypeError",
     "evalue": "bad operand type for abs(): 'set'",
     "output_type": "error",
     "traceback": [
      "\u001b[1;31m---------------------------------------------------------------------------\u001b[0m",
      "\u001b[1;31mTypeError\u001b[0m                                 Traceback (most recent call last)",
      "Cell \u001b[1;32mIn [12], line 1\u001b[0m\n\u001b[1;32m----> 1\u001b[0m venn3([benelux, baltics, eu, nordics], (\u001b[39m'\u001b[39;49m\u001b[39mBenelux\u001b[39;49m\u001b[39m'\u001b[39;49m, \u001b[39m'\u001b[39;49m\u001b[39mBaltics\u001b[39;49m\u001b[39m'\u001b[39;49m, \u001b[39m'\u001b[39;49m\u001b[39mEU\u001b[39;49m\u001b[39m'\u001b[39;49m, \u001b[39m'\u001b[39;49m\u001b[39mNordics\u001b[39;49m\u001b[39m'\u001b[39;49m))\n",
      "File \u001b[1;32mc:\\Users\\Anton\\MakeAIWork2\\env\\lib\\site-packages\\matplotlib_venn\\_venn3.py:350\u001b[0m, in \u001b[0;36mvenn3\u001b[1;34m(subsets, set_labels, set_colors, alpha, normalize_to, ax, subset_label_formatter)\u001b[0m\n\u001b[0;32m    347\u001b[0m \u001b[39mif\u001b[39;00m subset_label_formatter \u001b[39mis\u001b[39;00m \u001b[39mNone\u001b[39;00m:\n\u001b[0;32m    348\u001b[0m     subset_label_formatter \u001b[39m=\u001b[39m \u001b[39mstr\u001b[39m\n\u001b[1;32m--> 350\u001b[0m areas \u001b[39m=\u001b[39m compute_venn3_areas(subsets, normalize_to)\n\u001b[0;32m    351\u001b[0m centers, radii \u001b[39m=\u001b[39m solve_venn3_circles(areas)\n\u001b[0;32m    352\u001b[0m regions \u001b[39m=\u001b[39m compute_venn3_regions(centers, radii)\n",
      "File \u001b[1;32mc:\\Users\\Anton\\MakeAIWork2\\env\\lib\\site-packages\\matplotlib_venn\\_venn3.py:44\u001b[0m, in \u001b[0;36mcompute_venn3_areas\u001b[1;34m(diagram_areas, normalize_to, _minimal_area)\u001b[0m\n\u001b[0;32m     25\u001b[0m \u001b[39m'''\u001b[39;00m\n\u001b[0;32m     26\u001b[0m \u001b[39mThe list of venn areas is given as 7 values, corresponding to venn diagram areas in the following order:\u001b[39;00m\n\u001b[0;32m     27\u001b[0m \u001b[39m (Abc, aBc, ABc, abC, AbC, aBC, ABC)\u001b[39;00m\n\u001b[1;32m   (...)\u001b[0m\n\u001b[0;32m     41\u001b[0m \u001b[39m(16.0, 18.0, 22.0, 10.0, 13.0, 12.0, 7.0)\u001b[39;00m\n\u001b[0;32m     42\u001b[0m \u001b[39m'''\u001b[39;00m\n\u001b[0;32m     43\u001b[0m \u001b[39m# Normalize input values to sum to 1\u001b[39;00m\n\u001b[1;32m---> 44\u001b[0m areas \u001b[39m=\u001b[39m np\u001b[39m.\u001b[39marray(np\u001b[39m.\u001b[39;49mabs(diagram_areas), \u001b[39mfloat\u001b[39m)\n\u001b[0;32m     45\u001b[0m total_area \u001b[39m=\u001b[39m np\u001b[39m.\u001b[39msum(areas)\n\u001b[0;32m     46\u001b[0m \u001b[39mif\u001b[39;00m np\u001b[39m.\u001b[39mabs(total_area) \u001b[39m<\u001b[39m _minimal_area:\n",
      "\u001b[1;31mTypeError\u001b[0m: bad operand type for abs(): 'set'"
     ]
    }
   ],
   "source": [
    "venn3([benelux, baltics, eu, nordics], ('Benelux', 'Baltics', 'EU', 'Nordics'))"
   ]
  },
  {
   "cell_type": "markdown",
   "id": "964c398b-e494-43eb-806a-e729a83427f1",
   "metadata": {},
   "source": [
    "<h3>Exercise 1</h3>\n",
    "<h4>Gegeven</h4>"
   ]
  },
  {
   "cell_type": "markdown",
   "id": "2a6640a3-38f5-4561-a6f1-3a4b26e2f39c",
   "metadata": {},
   "source": [
    "<h4>Gevraagd</h4>\n",
    "<p>\n",
    "<ol>\n",
    "    <li>Bereken de a priori kans P(Nordics); de kans dat een land onderdeel is van de Nordics</li>\n",
    "    <li>Bereken <u>P(EU and Nordics)</u>; de kans dat een land onderdeel is van de Norics en lid is van de Europese Unie</li>\n",
    "    <li>Bereken <u>P(EU|Nordics)</u>; de kans dat een land lid is van de EU gegeven dat het onderdeel is van de Norics</li>\n",
    "</ol>\n",
    "</p>"
   ]
  },
  {
   "cell_type": "code",
   "execution_count": null,
   "id": "009d7345",
   "metadata": {},
   "outputs": [],
   "source": []
  },
  {
   "cell_type": "markdown",
   "id": "89c1d087",
   "metadata": {},
   "source": []
  }
 ],
 "metadata": {
  "kernelspec": {
   "display_name": "Python 3.10.6 ('env': venv)",
   "language": "python",
   "name": "python3"
  },
  "language_info": {
   "codemirror_mode": {
    "name": "ipython",
    "version": 3
   },
   "file_extension": ".py",
   "mimetype": "text/x-python",
   "name": "python",
   "nbconvert_exporter": "python",
   "pygments_lexer": "ipython3",
   "version": "3.10.6"
  },
  "vscode": {
   "interpreter": {
    "hash": "343175793893d94ad600fed4205d39857cd4175d02ecc054914f6e7a2056793d"
   }
  }
 },
 "nbformat": 4,
 "nbformat_minor": 5
}
