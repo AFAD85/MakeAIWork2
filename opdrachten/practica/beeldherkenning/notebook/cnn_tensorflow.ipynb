{
 "cells": [
  {
   "cell_type": "markdown",
   "id": "818a1af7-9708-4bae-92fe-fa36b678d2be",
   "metadata": {},
   "source": [
    "<a href=\"https://it-omscholing.nl/locaties/hogeschool-rotterdam/\">\n",
    "<div>\n",
    "<a><img src='pics/banner.PNG'/></a>\n",
    "</div>\n",
    "<div>\n",
    "<a href=''><img src='pics/miw.PNG'/></a>\n",
    "<em>Author: Jeroen Boogaard</em>\n",
    "</div>\n",
    "</a>"
   ]
  },
  {
   "cell_type": "markdown",
   "id": "a9ff9227-1da2-489e-a4b4-d661d44ce68f",
   "metadata": {},
   "source": [
    "<h1>CNN with Tensorflow </h1>"
   ]
  },
  {
   "cell_type": "markdown",
   "id": "7d395107",
   "metadata": {},
   "source": [
    "<h2>Imports<h2>"
   ]
  },
  {
   "cell_type": "code",
   "execution_count": 60,
   "id": "29d8757b-802f-44d9-ba5d-b061a1b0e5a6",
   "metadata": {},
   "outputs": [
    {
     "name": "stdout",
     "output_type": "stream",
     "text": [
      "Requirement already satisfied: tensorflow in /Users/JABoo/miniconda3/lib/python3.9/site-packages (2.7.0)\n",
      "Requirement already satisfied: tensorflow_addons in /Users/JABoo/miniconda3/lib/python3.9/site-packages (0.18.0)\n",
      "Requirement already satisfied: tensorflow_datasets in /Users/JABoo/miniconda3/lib/python3.9/site-packages (4.6.0)\n",
      "Requirement already satisfied: tensorflow_hub in /Users/JABoo/miniconda3/lib/python3.9/site-packages (0.12.0)\n",
      "Requirement already satisfied: numpy in /Users/JABoo/miniconda3/lib/python3.9/site-packages (1.23.1)\n",
      "Requirement already satisfied: matplotlib in /Users/JABoo/miniconda3/lib/python3.9/site-packages (3.5.1)\n",
      "Requirement already satisfied: seaborn in /Users/JABoo/miniconda3/lib/python3.9/site-packages (0.12.0)\n",
      "Requirement already satisfied: sklearn in /Users/JABoo/miniconda3/lib/python3.9/site-packages (0.0)\n",
      "Requirement already satisfied: keras-preprocessing>=1.1.1 in /Users/JABoo/miniconda3/lib/python3.9/site-packages (from tensorflow) (1.1.2)\n",
      "Requirement already satisfied: keras<2.8,>=2.7.0rc0 in /Users/JABoo/miniconda3/lib/python3.9/site-packages (from tensorflow) (2.7.0)\n",
      "Requirement already satisfied: tensorflow-estimator<2.8,~=2.7.0rc0 in /Users/JABoo/miniconda3/lib/python3.9/site-packages (from tensorflow) (2.7.0)\n",
      "Requirement already satisfied: absl-py>=0.4.0 in /Users/JABoo/miniconda3/lib/python3.9/site-packages (from tensorflow) (1.2.0)\n",
      "Requirement already satisfied: protobuf>=3.9.2 in /Users/JABoo/miniconda3/lib/python3.9/site-packages (from tensorflow) (3.19.4)\n",
      "Requirement already satisfied: grpcio<2.0,>=1.24.3 in /Users/JABoo/miniconda3/lib/python3.9/site-packages (from tensorflow) (1.42.0)\n",
      "Requirement already satisfied: h5py>=2.9.0 in /Users/JABoo/miniconda3/lib/python3.9/site-packages (from tensorflow) (3.6.0)\n",
      "Requirement already satisfied: astunparse>=1.6.0 in /Users/JABoo/miniconda3/lib/python3.9/site-packages (from tensorflow) (1.6.3)\n",
      "Requirement already satisfied: typing-extensions>=3.6.6 in /Users/JABoo/miniconda3/lib/python3.9/site-packages (from tensorflow) (4.3.0)\n",
      "Requirement already satisfied: google-pasta>=0.1.1 in /Users/JABoo/miniconda3/lib/python3.9/site-packages (from tensorflow) (0.2.0)\n",
      "Requirement already satisfied: termcolor>=1.1.0 in /Users/JABoo/miniconda3/lib/python3.9/site-packages (from tensorflow) (1.1.0)\n",
      "Requirement already satisfied: six>=1.12.0 in /Users/JABoo/miniconda3/lib/python3.9/site-packages (from tensorflow) (1.16.0)\n",
      "Requirement already satisfied: tensorboard~=2.6 in /Users/JABoo/miniconda3/lib/python3.9/site-packages (from tensorflow) (2.6.0)\n",
      "Requirement already satisfied: wrapt>=1.11.0 in /Users/JABoo/miniconda3/lib/python3.9/site-packages (from tensorflow) (1.14.1)\n",
      "Requirement already satisfied: opt-einsum>=2.3.2 in /Users/JABoo/miniconda3/lib/python3.9/site-packages (from tensorflow) (3.3.0)\n",
      "Requirement already satisfied: gast<0.5.0,>=0.2.1 in /Users/JABoo/miniconda3/lib/python3.9/site-packages (from tensorflow) (0.4.0)\n",
      "Requirement already satisfied: flatbuffers<3.0,>=1.12 in /Users/JABoo/miniconda3/lib/python3.9/site-packages (from tensorflow) (2.0)\n",
      "Requirement already satisfied: packaging in /Users/JABoo/miniconda3/lib/python3.9/site-packages (from tensorflow_addons) (21.3)\n",
      "Requirement already satisfied: typeguard>=2.7 in /Users/JABoo/miniconda3/lib/python3.9/site-packages (from tensorflow_addons) (2.13.3)\n",
      "Requirement already satisfied: toml in /Users/JABoo/miniconda3/lib/python3.9/site-packages (from tensorflow_datasets) (0.10.2)\n",
      "Requirement already satisfied: tqdm in /Users/JABoo/miniconda3/lib/python3.9/site-packages (from tensorflow_datasets) (4.64.0)\n",
      "Requirement already satisfied: dill in /Users/JABoo/miniconda3/lib/python3.9/site-packages (from tensorflow_datasets) (0.3.5.1)\n",
      "Requirement already satisfied: promise in /Users/JABoo/miniconda3/lib/python3.9/site-packages (from tensorflow_datasets) (2.3)\n",
      "Requirement already satisfied: requests>=2.19.0 in /Users/JABoo/miniconda3/lib/python3.9/site-packages (from tensorflow_datasets) (2.27.1)\n",
      "Requirement already satisfied: tensorflow-metadata in /Users/JABoo/miniconda3/lib/python3.9/site-packages (from tensorflow_datasets) (1.10.0)\n",
      "Requirement already satisfied: etils[epath] in /Users/JABoo/miniconda3/lib/python3.9/site-packages (from tensorflow_datasets) (0.8.0)\n",
      "Requirement already satisfied: fonttools>=4.22.0 in /Users/JABoo/miniconda3/lib/python3.9/site-packages (from matplotlib) (4.37.1)\n",
      "Requirement already satisfied: cycler>=0.10 in /Users/JABoo/miniconda3/lib/python3.9/site-packages (from matplotlib) (0.11.0)\n",
      "Requirement already satisfied: pyparsing>=2.2.1 in /Users/JABoo/miniconda3/lib/python3.9/site-packages (from matplotlib) (3.0.9)\n",
      "Requirement already satisfied: kiwisolver>=1.0.1 in /Users/JABoo/miniconda3/lib/python3.9/site-packages (from matplotlib) (1.3.2)\n",
      "Requirement already satisfied: python-dateutil>=2.7 in /Users/JABoo/miniconda3/lib/python3.9/site-packages (from matplotlib) (2.8.2)\n",
      "Requirement already satisfied: pillow>=6.2.0 in /Users/JABoo/miniconda3/lib/python3.9/site-packages (from matplotlib) (8.4.0)\n",
      "Requirement already satisfied: pandas>=0.25 in /Users/JABoo/miniconda3/lib/python3.9/site-packages (from seaborn) (1.4.3)\n",
      "Requirement already satisfied: scikit-learn in /Users/JABoo/miniconda3/lib/python3.9/site-packages (from sklearn) (1.1.1)\n",
      "Requirement already satisfied: wheel<1.0,>=0.23.0 in /Users/JABoo/miniconda3/lib/python3.9/site-packages (from astunparse>=1.6.0->tensorflow) (0.37.1)\n",
      "Requirement already satisfied: pytz>=2020.1 in /Users/JABoo/miniconda3/lib/python3.9/site-packages (from pandas>=0.25->seaborn) (2022.2.1)\n",
      "Requirement already satisfied: certifi>=2017.4.17 in /Users/JABoo/miniconda3/lib/python3.9/site-packages (from requests>=2.19.0->tensorflow_datasets) (2022.9.14)\n",
      "Requirement already satisfied: charset-normalizer~=2.0.0 in /Users/JABoo/miniconda3/lib/python3.9/site-packages (from requests>=2.19.0->tensorflow_datasets) (2.0.4)\n",
      "Requirement already satisfied: urllib3<1.27,>=1.21.1 in /Users/JABoo/miniconda3/lib/python3.9/site-packages (from requests>=2.19.0->tensorflow_datasets) (1.26.9)\n",
      "Requirement already satisfied: idna<4,>=2.5 in /Users/JABoo/miniconda3/lib/python3.9/site-packages (from requests>=2.19.0->tensorflow_datasets) (3.3)\n",
      "Requirement already satisfied: google-auth<2,>=1.6.3 in /Users/JABoo/miniconda3/lib/python3.9/site-packages (from tensorboard~=2.6->tensorflow) (1.35.0)\n",
      "Requirement already satisfied: setuptools>=41.0.0 in /Users/JABoo/miniconda3/lib/python3.9/site-packages (from tensorboard~=2.6->tensorflow) (61.2.0)\n",
      "Requirement already satisfied: tensorboard-plugin-wit>=1.6.0 in /Users/JABoo/miniconda3/lib/python3.9/site-packages (from tensorboard~=2.6->tensorflow) (1.8.1)\n",
      "Requirement already satisfied: google-auth-oauthlib<0.5,>=0.4.1 in /Users/JABoo/miniconda3/lib/python3.9/site-packages (from tensorboard~=2.6->tensorflow) (0.4.6)\n",
      "Requirement already satisfied: tensorboard-data-server<0.7.0,>=0.6.0 in /Users/JABoo/miniconda3/lib/python3.9/site-packages (from tensorboard~=2.6->tensorflow) (0.6.0)\n",
      "Requirement already satisfied: markdown>=2.6.8 in /Users/JABoo/miniconda3/lib/python3.9/site-packages (from tensorboard~=2.6->tensorflow) (3.4.1)\n",
      "Requirement already satisfied: werkzeug>=0.11.15 in /Users/JABoo/miniconda3/lib/python3.9/site-packages (from tensorboard~=2.6->tensorflow) (2.2.2)\n",
      "Requirement already satisfied: importlib_resources in /Users/JABoo/miniconda3/lib/python3.9/site-packages (from etils[epath]->tensorflow_datasets) (5.9.0)\n",
      "Requirement already satisfied: zipp in /Users/JABoo/miniconda3/lib/python3.9/site-packages (from etils[epath]->tensorflow_datasets) (3.8.1)\n",
      "Requirement already satisfied: joblib>=1.0.0 in /Users/JABoo/miniconda3/lib/python3.9/site-packages (from scikit-learn->sklearn) (1.1.0)\n",
      "Requirement already satisfied: scipy>=1.3.2 in /Users/JABoo/miniconda3/lib/python3.9/site-packages (from scikit-learn->sklearn) (1.8.0)\n",
      "Requirement already satisfied: threadpoolctl>=2.0.0 in /Users/JABoo/miniconda3/lib/python3.9/site-packages (from scikit-learn->sklearn) (3.1.0)\n",
      "Requirement already satisfied: googleapis-common-protos<2,>=1.52.0 in /Users/JABoo/miniconda3/lib/python3.9/site-packages (from tensorflow-metadata->tensorflow_datasets) (1.56.4)\n",
      "Requirement already satisfied: cachetools<5.0,>=2.0.0 in /Users/JABoo/miniconda3/lib/python3.9/site-packages (from google-auth<2,>=1.6.3->tensorboard~=2.6->tensorflow) (4.2.4)\n",
      "Requirement already satisfied: pyasn1-modules>=0.2.1 in /Users/JABoo/miniconda3/lib/python3.9/site-packages (from google-auth<2,>=1.6.3->tensorboard~=2.6->tensorflow) (0.2.7)\n",
      "Requirement already satisfied: rsa<5,>=3.1.4 in /Users/JABoo/miniconda3/lib/python3.9/site-packages (from google-auth<2,>=1.6.3->tensorboard~=2.6->tensorflow) (4.9)\n",
      "Requirement already satisfied: requests-oauthlib>=0.7.0 in /Users/JABoo/miniconda3/lib/python3.9/site-packages (from google-auth-oauthlib<0.5,>=0.4.1->tensorboard~=2.6->tensorflow) (1.3.1)\n",
      "Requirement already satisfied: importlib-metadata>=4.4 in /Users/JABoo/miniconda3/lib/python3.9/site-packages (from markdown>=2.6.8->tensorboard~=2.6->tensorflow) (4.11.4)\n",
      "Requirement already satisfied: MarkupSafe>=2.1.1 in /Users/JABoo/miniconda3/lib/python3.9/site-packages (from werkzeug>=0.11.15->tensorboard~=2.6->tensorflow) (2.1.1)\n",
      "Requirement already satisfied: pyasn1<0.5.0,>=0.4.6 in /Users/JABoo/miniconda3/lib/python3.9/site-packages (from pyasn1-modules>=0.2.1->google-auth<2,>=1.6.3->tensorboard~=2.6->tensorflow) (0.4.8)\n",
      "Requirement already satisfied: oauthlib>=3.0.0 in /Users/JABoo/miniconda3/lib/python3.9/site-packages (from requests-oauthlib>=0.7.0->google-auth-oauthlib<0.5,>=0.4.1->tensorboard~=2.6->tensorflow) (3.2.0)\n",
      "yes: stdout: Broken pipe\n"
     ]
    }
   ],
   "source": [
    "!yes | pip install tensorflow tensorflow_addons tensorflow_datasets tensorflow_hub numpy matplotlib seaborn sklearn"
   ]
  },
  {
   "cell_type": "code",
   "execution_count": 61,
   "id": "84d02a33",
   "metadata": {},
   "outputs": [],
   "source": [
    "import os\n",
    "\n",
    "import numpy as np\n",
    "import matplotlib.pyplot as plt\n",
    "import seaborn as sns\n",
    "import tensorflow as tf\n",
    "import tensorflow_datasets as tfds\n",
    "import tensorflow_hub as hub\n",
    "import tensorflow_addons as tfa"
   ]
  },
  {
   "cell_type": "markdown",
   "id": "51aae3d0-f644-4552-870c-029b41f24559",
   "metadata": {},
   "source": [
    "<h2>Dataset</h2>"
   ]
  },
  {
   "cell_type": "code",
   "execution_count": 62,
   "id": "ea6073d3-9234-4524-80b5-05d565bed04f",
   "metadata": {},
   "outputs": [],
   "source": [
    "# load the whole dataset, for data info\n",
    "all_ds = tfds.load(\"eurosat\", with_info=True)"
   ]
  },
  {
   "cell_type": "markdown",
   "id": "170099a3-4baf-4d2b-9ee2-ba934e368432",
   "metadata": {},
   "source": [
    "<h3>Filter dataset</h3>"
   ]
  },
  {
   "cell_type": "code",
   "execution_count": 70,
   "id": "57eb7d80-bfc1-4774-a635-fc28b2742aa0",
   "metadata": {},
   "outputs": [
    {
     "name": "stdout",
     "output_type": "stream",
     "text": [
      "<class 'list'>\n",
      "['AnnualCrop', 'Forest', 'HerbaceousVegetation', 'Highway', 'Industrial', 'Pasture', 'PermanentCrop', 'Residential', 'River', 'SeaLake']\n"
     ]
    }
   ],
   "source": [
    "classNames = all_ds[1].features[\"label\"].names\n",
    "print(type(classNames))\n",
    "# classNames.remove(\"AnnualCrop\")\n",
    "print(classNames)\n",
    "num_classes = len(classNames)\n",
    "# lambda x: x[\"label\"]"
   ]
  },
  {
   "cell_type": "markdown",
   "id": "9af14b2c-47b2-4256-9f22-715218d60b74",
   "metadata": {},
   "source": [
    "<h3>Split Dataset</h3>"
   ]
  },
  {
   "cell_type": "code",
   "execution_count": 64,
   "id": "ef3d2e75-c904-44f7-b764-618226c22dae",
   "metadata": {},
   "outputs": [],
   "source": [
    "train_ds = tfds.load(\"eurosat\", split=\"train[:60%]\", as_supervised=True)\n",
    "test_ds = tfds.load(\"eurosat\", split=\"train[60%:80%]\", as_supervised=True)\n",
    "valid_ds = tfds.load(\"eurosat\", split=\"train[80%:]\", as_supervised=True)"
   ]
  },
  {
   "cell_type": "code",
   "execution_count": 65,
   "id": "1bfad87a-3168-49bd-ad1a-62e92ead8d0d",
   "metadata": {},
   "outputs": [],
   "source": [
    "num_examples = all_ds[1].splits[\"train\"].num_examples"
   ]
  },
  {
   "cell_type": "markdown",
   "id": "11669120-c3b7-4d62-8e61-e3858002d973",
   "metadata": {},
   "source": [
    "<h3>Visualise Dataset</h3>"
   ]
  },
  {
   "cell_type": "code",
   "execution_count": 72,
   "id": "c5e3ce52-c40f-4225-8925-4f56df9b2cb5",
   "metadata": {},
   "outputs": [
    {
     "name": "stdout",
     "output_type": "stream",
     "text": [
      "<class 'numpy.ndarray'>\n"
     ]
    },
    {
     "data": {
      "text/plain": [
       "Text(0.5, 1.0, 'Bar Plot showing Number of Samples on Each Class')"
      ]
     },
     "execution_count": 72,
     "metadata": {},
     "output_type": "execute_result"
    },
    {
     "data": {
      "image/png": "[encoded data removed]",
      "text/plain": [
       "<Figure size 1008x720 with 1 Axes>"
      ]
     },
     "metadata": {
      "needs_background": "light"
     },
     "output_type": "display_data"
    }
   ],
   "source": [
    "# make a plot for number of samples on each class\n",
    "fig, ax = plt.subplots(1, 1, figsize=(14,10))\n",
    "labels, counts = np.unique(np.fromiter(all_ds[0][\"train\"].map(lambda x: x[\"label\"]), np.int32), \n",
    "                       return_counts=True)\n",
    "\n",
    "# print(type(labels))\n",
    "\n",
    "plt.ylabel('Counts')\n",
    "plt.xlabel('Labels')\n",
    "sns.barplot(x = [classNames[l] for l in labels], y = counts, ax=ax) \n",
    "\n",
    "for i, x_ in enumerate(labels):\n",
    "  ax.text(x_-0.2, counts[i]+5, counts[i])\n",
    "\n",
    "# set the title\n",
    "ax.set_title(\"Bar Plot showing Number of Samples on Each Class\")"
   ]
  },
  {
   "cell_type": "code",
   "execution_count": null,
   "id": "8b812bd6-f117-460f-9f8a-aa4fa2a5a4e1",
   "metadata": {},
   "outputs": [],
   "source": []
  }
 ],
 "metadata": {
  "kernelspec": {
   "display_name": "Python 3",
   "language": "python",
   "name": "python3"
  },
  "language_info": {
   "codemirror_mode": {
    "name": "ipython",
    "version": 3
   },
   "file_extension": ".py",
   "mimetype": "text/x-python",
   "name": "python",
   "nbconvert_exporter": "python",
   "pygments_lexer": "ipython3",
   "version": "3.9.10"
  },
  "vscode": {
   "interpreter": {
    "hash": "aee8b7b246df8f9039afb4144a1f6fd8d2ca17a180786b69acc140d282b71a49"
   }
  }
 },
 "nbformat": 4,
 "nbformat_minor": 5
}
