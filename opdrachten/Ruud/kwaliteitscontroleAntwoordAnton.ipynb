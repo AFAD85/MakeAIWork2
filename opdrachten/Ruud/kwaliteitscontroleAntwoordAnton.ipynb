{
 "cells": [
  {
   "cell_type": "code",
   "execution_count": 49,
   "metadata": {},
   "outputs": [
    {
     "ename": "SyntaxError",
     "evalue": "invalid syntax. Perhaps you forgot a comma? (1638690153.py, line 73)",
     "output_type": "error",
     "traceback": [
      "\u001b[1;36m  Input \u001b[1;32mIn [49]\u001b[1;36m\u001b[0m\n\u001b[1;33m    print(f'het aantal defecte lampen is' defectiveLamps)\u001b[0m\n\u001b[1;37m          ^\u001b[0m\n\u001b[1;31mSyntaxError\u001b[0m\u001b[1;31m:\u001b[0m invalid syntax. Perhaps you forgot a comma?\n"
     ]
    }
   ],
   "source": [
    "import random\n",
    "# Kopieer en plak de comments and start met de implementatie\n",
    "# ik begin met het noteren van de gegevens die bekend zijn vanuit de opdracht:\n",
    "dailyVolume = 75000\n",
    "percentFunctional = 98\n",
    "amountFunctional = 73500\n",
    "percentDefective = 2\n",
    "amountDefective = 1500\n",
    "inspectionSampleSize = 25\n",
    "dailyInspections = 100\n",
    "defectiveLamp = \"D\"\n",
    "functionalLamp = \"F\"\n",
    "productionVolume = 0\n",
    "# 1. Genereer een lijst met lampen \n",
    "lamps = []\n",
    "while productionVolume < amountFunctional:\n",
    "    lamps.append(functionalLamp)\n",
    "    productionVolume += 1\n",
    "    \n",
    "productionVolume = 0\n",
    "# 1.5 controle! verwacht = lengte lamps \n",
    "print(f'het aantal functionele lampen is : ',len(lamps))\n",
    "#verwacht als ik de hele lijst print ik 73500 Fjes zie, dat klopt dus ik comment em weg, want vrij nutteloos voorbij de eerste check\n",
    "#print(lamps)\n",
    "# 2. Vul de lijst aan met defecte lampen \n",
    "while productionVolume < amountDefective:\n",
    "    lamps.append(defectiveLamp)\n",
    "    productionVolume += 1\n",
    "\n",
    "print(f'het totale aantal lampen is : ',len(lamps))\n",
    "#ff checken of de lijst nu dus ook de defecte lampen heeft (laatste 1500 moeten D zijn)\n",
    "print(lamps[len(lamps)-10])\n",
    "#check om te zien of er inderdaad zoals verwacht aan het einde van de lijst \"D\" strings zijn toegevoegd, klopt dus ik comment em weg\n",
    "#print(lamps)\n",
    "\n",
    "\n",
    "#ok tof, de inspectie nu: we willen dus 25 lampen uit de lijst halen (willekeurig) en deze in een nieuwe lijst (sample) zetten en kijken hoe het zit met defect of niet defect\n",
    "#eerst dus de sample uit de lamps halen\n",
    "## de sampling werkt, nu dus 10 maal doen\n",
    "#ik heb al functionalLamp gebruikt, dus lamps is niet handig... maargoed, dat zou ik oplossen met OOP denk ik\n",
    "functionalLamps = 0\n",
    "\n",
    "inspections = 0\n",
    "while inspections < dailyInspections:\n",
    "    inspections +=1\n",
    "    inspectionSamples = []\n",
    "    samples = 0\n",
    "    while samples < inspectionSampleSize:\n",
    "        randomLamp = random.choice(lamps)\n",
    "        inspectionSamples.append(randomLamp)\n",
    "        lamps.remove(randomLamp)\n",
    "        samples += 1\n",
    "        if samples == inspectionSampleSize:\n",
    "            #print(inspectionSamples)\n",
    "            while ('D' in inspectionSamples):\n",
    "                inspectionSamples.remove('D')\n",
    "            #print(inspectionSamples)\n",
    "            #print(len(inspectionSamples))\n",
    "            functionalLamps += len(inspectionSamples)\n",
    "            \n",
    "\n",
    "\n",
    "\n",
    "        \n",
    "print(inspectionSamples)\n",
    "##ik verwacht dat er nu 250 lampen weg zijn, en dat klopt\n",
    "print(f'het aantal niet getestelampen is 'len(lamps))\n",
    "#worden er nou ook 25 lampen uit de set gehaald? verwacht 74975 en dat klopt\n",
    "#print(len(lamps))\n",
    "#hoeveel goede lampjes zitten er in onze inspectie van 250?\n",
    "print(f'het aantal werkende lampen uit',dailyInspections,'inspecties is : ',functionalLamps)\n",
    "defectiveLamps = inspectionSampleSize*dailyInspections-(functionalLamps)\n",
    "print(f'het aantal defecte lampen is' defectiveLamps)\n"
   ]
  }
 ],
 "metadata": {
  "kernelspec": {
   "display_name": "Python 3.10.6 64-bit",
   "language": "python",
   "name": "python3"
  },
  "language_info": {
   "codemirror_mode": {
    "name": "ipython",
    "version": 3
   },
   "file_extension": ".py",
   "mimetype": "text/x-python",
   "name": "python",
   "nbconvert_exporter": "python",
   "pygments_lexer": "ipython3",
   "version": "3.10.6"
  },
  "orig_nbformat": 4,
  "vscode": {
   "interpreter": {
    "hash": "255339e82813f20a98be7c8894b4473184f3fc4c39449c80ccbf6c0b1122f2a8"
   }
  }
 },
 "nbformat": 4,
 "nbformat_minor": 2
}
