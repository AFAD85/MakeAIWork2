{
 "cells": [
  {
   "cell_type": "code",
   "execution_count": 49,
   "metadata": {},
   "outputs": [
    {
     "name": "stdout",
     "output_type": "stream",
     "text": [
      "1500\n",
      "75000\n",
      "there are 1500  defective lamps in today\n"
     ]
    }
   ],
   "source": [
    "lamps = []\n",
    "defectiveLamp = 'D'\n",
    "functionalLamp = 'F'\n",
    "totalDailyAmount = 75000\n",
    "failureRate = 0.02\n",
    "totalDefectiveLamps = 0\n",
    "\n",
    "# function for creating the daily batch of lamps. \n",
    "# takes 2 parameters : totalAmount(Note: Not specifically totalDailyAmount) (amount of lamps to be produced), and the failure rate (in a number between 0 and 1 (including 0 and 1)to represent a percentage)\n",
    "# if the amount and failure rate lead to a fraction of a lamp being created the function will round off that lamp avoiding a messy day\n",
    "def createLamps(totalAmount, failureRate, totalDefectiveLamps):\n",
    "\n",
    "    for lamp in range(0,(int(totalAmount*failureRate))):\n",
    "        lamps.append(defectiveLamp)\n",
    "        totalDefectiveLamps += 1\n",
    "\n",
    "    for lamp in range(0,(int(totalAmount*(1-failureRate)))):\n",
    "        lamps.append(functionalLamp)\n",
    "    print(totalDefectiveLamps)\n",
    "    return totalDefectiveLamps\n",
    "\n",
    "# calls the createLamps function and runs it with the totalDailyAmount and failure rate as presented in the assignment\n",
    "defective = createLamps(totalDailyAmount, failureRate, totalDefectiveLamps)\n",
    "\n",
    "#print statements to check if the creation of the lamps succeeded\n",
    "print(len(lamps))\n",
    "#print(lamps)\n",
    "print(f'there are',defective,' defective lamps in today')\n",
    "    \n",
    "   \n",
    "#def testLamps():\n",
    "    \n",
    "    \n",
    "\n",
    "\n"
   ]
  }
 ],
 "metadata": {
  "kernelspec": {
   "display_name": "Python 3.10.6 ('env': venv)",
   "language": "python",
   "name": "python3"
  },
  "language_info": {
   "codemirror_mode": {
    "name": "ipython",
    "version": 3
   },
   "file_extension": ".py",
   "mimetype": "text/x-python",
   "name": "python",
   "nbconvert_exporter": "python",
   "pygments_lexer": "ipython3",
   "version": "3.10.6"
  },
  "orig_nbformat": 4,
  "vscode": {
   "interpreter": {
    "hash": "343175793893d94ad600fed4205d39857cd4175d02ecc054914f6e7a2056793d"
   }
  }
 },
 "nbformat": 4,
 "nbformat_minor": 2
}
