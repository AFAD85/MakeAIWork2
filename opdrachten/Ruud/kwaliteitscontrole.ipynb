{
 "cells": [
  {
   "cell_type": "markdown",
   "id": "4bdbdeaa-79d8-416d-91b6-0566f3f2eaf4",
   "metadata": {
    "tags": []
   },
   "source": [
    "# Statistische kwaliteitscontrole"
   ]
  },
  {
   "cell_type": "markdown",
   "id": "64960ef1-4dce-4f48-b69f-fc48178fdc2c",
   "metadata": {},
   "source": [
    "![quality](quality.jpg)"
   ]
  },
  {
   "cell_type": "markdown",
   "id": "d1af3142-d8be-4a22-a21b-d058fae53330",
   "metadata": {},
   "source": [
    "## Situatie"
   ]
  },
  {
   "cell_type": "markdown",
   "id": "1a944e91-9e18-42cc-b419-7d3f2c7d655e",
   "metadata": {},
   "source": [
    "De firma Glow BV produceert lampen.\n",
    "\n",
    "- Bekend is dat **2%** van de productie defecten bevat\n",
    "- De dagproductie bestaat uit **75.000 lampen**"
   ]
  },
  {
   "cell_type": "markdown",
   "id": "3ad208d3-066d-4c7e-a4c7-8456202b308d",
   "metadata": {},
   "source": [
    "## Opdracht"
   ]
  },
  {
   "cell_type": "markdown",
   "id": "0415ea02-1298-480e-8668-1d789d4ae0ff",
   "metadata": {},
   "source": [
    "- Onderzoek hoeveel kapotte lampen je tegenkomt als je **25 lampen** uit de totale dagproductie inspecteert\n",
    "- Voer de inspectie **10 maal** uit\n",
    "- Maak een kort overzicht van je bevindingen (in Excel, met MatplotLib of met print-statements)"
   ]
  },
  {
   "cell_type": "markdown",
   "id": "861d9c5f-0d6d-4f1c-ba69-531d3c632cfe",
   "metadata": {},
   "source": [
    "## Analyse"
   ]
  },
  {
   "cell_type": "markdown",
   "id": "5c86ba6f-4f31-4907-a1af-d3135bb4ae26",
   "metadata": {},
   "source": [
    "- Bedenk hoe je de productie en de productiefout simuleert\n",
    "- Bedenk hoe het inspectieproces verloopt\n",
    "\n",
    "**Hint**: zitten er functies in de [random module](https://www.w3schools.com/python/module_random.asp) die passen bij deze opdracht?"
   ]
  },
  {
   "cell_type": "markdown",
   "id": "61577874-6ad0-4406-b49c-bfe83337d3d5",
   "metadata": {},
   "source": [
    "## Schetsen"
   ]
  },
  {
   "cell_type": "markdown",
   "id": "22732353-821f-48a0-a1f5-2b09408a3a6f",
   "metadata": {},
   "source": [
    "Werk op basis van je analyse stapsgewijs een oplossing uit in de vorm van comments, bijvoorbeeld:"
   ]
  },
  {
   "cell_type": "code",
   "execution_count": null,
   "id": "397f1676-3852-41ea-b367-77520ef2e2c2",
   "metadata": {},
   "outputs": [],
   "source": [
    "'''\n",
    "- Onderzoek hoeveel kapotte lampen je tegenkomt als je **25 lampen** uit de totale dagproductie inspecteert\n",
    "- Voer de inspectie **10 maal** uit\n",
    "- Maak een kort overzicht van je bevindingen (in Excel, met MatplotLib of met print-statements)\n",
    "'''\n",
    "\n",
    "# 0. ik begin met het noteren van de gegevens die bekend zijn vanuit de opdracht:\n",
    "\n",
    "# 1. Genereer een lijst met functionele lampen ('f') (hoeveel?)\n",
    "# 1.5 75000*.98\n",
    "# 2. Vul de lijst aan met defecte lampen('d') (hoeveel?)\n",
    "# 2.5 75000*.02\n",
    "# 3 \n",
    "# ...\n",
    "\n",
    "#hint random module:\n",
    "# jazeker! random.sample(seq, n)\n",
    "# Generate n unique samples (multiple items) from a sequence without repetition. Here, A seq can be a list, set, string, tuple. Sample without replacement.\n",
    "# bij seq komt de lijst met lampen, bij n 25 voor de sample\n",
    "# is leuk, maar niet uitgesloten dat bij de 10 samples niet dezelfde lampen worden gesamplet... \n",
    "# kan natuurlijk ook gewoon per inspectie 25 lampen poppen en die bekijken... maarja dan is het dus weer niet echt een willekeurig gekozen sample\n",
    "# de kans dat je uit 75000 lampen twee keer dezelfde pakt is hier denk ik genoeg om te zeggen dat je 250 unieke lampen pakt... laten we het leuk houden...\n"
   ]
  },
  {
   "cell_type": "code",
   "execution_count": null,
   "id": "29c29b18",
   "metadata": {},
   "outputs": [],
   "source": [
    "\n",
    "# zou het in OOP kunnen?\n",
    "\n",
    "#super class lamp\n",
    "#subclass defectiveLamp\n",
    "#subclass functionalLamp\n",
    "\n",
    "\n"
   ]
  },
  {
   "cell_type": "markdown",
   "id": "37923139-5fbd-4575-ab9b-72ad309b50be",
   "metadata": {},
   "source": [
    "- Als bovenstaande niet lukt dan zal het implementeren ook niet lukken...\n",
    "- Vraag om hulp, maar oefen eerst met het uitwerken van een oplossing"
   ]
  },
  {
   "cell_type": "markdown",
   "id": "03440dea-9b95-4b92-9d89-8385dbad8ebe",
   "metadata": {},
   "source": [
    "## Implementeren"
   ]
  },
  {
   "cell_type": "markdown",
   "id": "41d28061-7872-4a91-8296-f1ef4302e695",
   "metadata": {},
   "source": [
    "- Werk de bovenstaande schets stap voor stap uit\n",
    "- Begin pas met implementeren als de schets klopt"
   ]
  },
  {
   "cell_type": "code",
   "execution_count": null,
   "id": "ac97b428-2e7f-4088-a0c1-a83f619802e0",
   "metadata": {},
   "outputs": [],
   "source": [
    "import random\n",
    "# Kopieer en plak de comments and start met de implementatie\n",
    "# ik begin met het noteren van de gegevens die bekend zijn vanuit de opdracht:\n",
    "dailyVolume = 75000\n",
    "percentFunctional = 98\n",
    "amountFunctional = 73500\n",
    "percentDefective = 2\n",
    "amountDefective = 1500\n",
    "inspectionSampleSize = 25\n",
    "#het aantal inspecties dat wordt uitgevoerd 3000 test alle lampen, 10 voert de test uit zoals gevraagd in de opdracht\n",
    "dailyInspections = 10\n",
    "defectiveLamp = \"D\"\n",
    "functionalLamp = \"F\"\n",
    "productionVolume = 0\n",
    "# 1. Genereer een lijst met lampen \n",
    "lamps = []\n",
    "while productionVolume < amountFunctional:\n",
    "    lamps.append(functionalLamp)\n",
    "    productionVolume += 1\n",
    "    \n",
    "productionVolume = 0\n",
    "# 1.5 controle! verwacht = lengte lamps \n",
    "print(f'het aantal functionele lampen is : ',len(lamps))\n",
    "#verwacht als ik de hele lijst print ik 73500 Fjes zie, dat klopt dus ik comment em weg, want vrij nutteloos voorbij de eerste check\n",
    "#print(lamps)\n",
    "# 2. Vul de lijst aan met defecte lampen \n",
    "while productionVolume < amountDefective:\n",
    "    lamps.append(defectiveLamp)\n",
    "    productionVolume += 1\n",
    "\n",
    "print(f'het totale aantal lampen is : ',len(lamps))\n",
    "#ff checken of de lijst nu dus ook de defecte lampen heeft (laatste 1500 moeten D zijn)\n",
    "#print(lamps[len(lamps)-10])\n",
    "#check om te zien of er inderdaad zoals verwacht aan het einde van de lijst \"D\" strings zijn toegevoegd, klopt dus ik comment em weg\n",
    "#print(lamps)\n",
    "\n",
    "\n",
    "#ok tof, de inspectie nu: we willen dus 25 lampen uit de lijst halen (willekeurig) en deze in een nieuwe lijst (sample) zetten en kijken hoe het zit met defect of niet defect\n",
    "#eerst dus de sample uit de lamps halen\n",
    "## de sampling werkt, nu dus 10 maal doen\n",
    "#ik heb al functionalLamp gebruikt, dus lamps is niet handig... maargoed, dat zou ik oplossen met OOP denk ik\n",
    "functionalLamps = 0\n",
    "\n",
    "inspections = 0\n",
    "while inspections < dailyInspections:\n",
    "    inspections +=1\n",
    "    inspectionSamples = []\n",
    "    samples = 0\n",
    "    while samples < inspectionSampleSize:\n",
    "        randomLamp = random.choice(lamps)\n",
    "        inspectionSamples.append(randomLamp)\n",
    "        lamps.remove(randomLamp)\n",
    "        samples += 1\n",
    "        if samples == inspectionSampleSize:\n",
    "            #print(inspectionSamples)\n",
    "            while ('D' in inspectionSamples):\n",
    "                inspectionSamples.remove('D')\n",
    "            #print(inspectionSamples)\n",
    "            #print(len(inspectionSamples))\n",
    "            functionalLamps += len(inspectionSamples)\n",
    "            \n",
    "\n",
    "\n",
    "\n",
    "        \n",
    "#print(inspectionSamples)\n",
    "##ik verwacht dat er nu 250 lampen weg zijn, en dat klopt\n",
    "print(f'het aantal niet-geteste lampen is :',len(lamps))\n",
    "#worden er nou ook 25 lampen uit de set gehaald? verwacht 74975 en dat klopt\n",
    "#print(len(lamps))\n",
    "#hoeveel goede lampjes zitten er in onze inspectie van 250?\n",
    "print(f'het aantal werkende lampen uit',dailyInspections,'inspecties is :',functionalLamps)\n",
    "defectiveLamps = inspectionSampleSize*dailyInspections-(functionalLamps)\n",
    "print(f'het aantal defecte lampen is uit',dailyInspections,'inspecties :', (defectiveLamps))"
   ]
  }
 ],
 "metadata": {
  "kernelspec": {
   "display_name": "Python 3.10.6 ('env': venv)",
   "language": "python",
   "name": "python3"
  },
  "language_info": {
   "codemirror_mode": {
    "name": "ipython",
    "version": 3
   },
   "file_extension": ".py",
   "mimetype": "text/x-python",
   "name": "python",
   "nbconvert_exporter": "python",
   "pygments_lexer": "ipython3",
   "version": "3.10.6"
  },
  "toc-showcode": false,
  "toc-showmarkdowntxt": false,
  "vscode": {
   "interpreter": {
    "hash": "343175793893d94ad600fed4205d39857cd4175d02ecc054914f6e7a2056793d"
   }
  }
 },
 "nbformat": 4,
 "nbformat_minor": 5
}
