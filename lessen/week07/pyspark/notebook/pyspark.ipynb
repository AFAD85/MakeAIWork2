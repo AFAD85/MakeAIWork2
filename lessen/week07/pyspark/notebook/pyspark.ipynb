{
 "cells": [
  {
   "cell_type": "markdown",
   "id": "6c2fdcec-34ce-4024-864d-654d31ef43a4",
   "metadata": {},
   "source": [
    "<a href=\"https://it-omscholing.nl/locaties/hogeschool-rotterdam/\">\n",
    "<div>\n",
    "<img src='pics/banner.PNG'/>\n",
    "</div>\n",
    "<div>\n",
    "<img src='pics/miw.PNG'/>\n",
    "<em>Author: Jeroen Boogaard</em>\n",
    "</div>\n",
    "</a>"
   ]
  },
  {
   "cell_type": "markdown",
   "id": "de72c0b0-761d-404c-bfab-6c6fbd77c1db",
   "metadata": {},
   "source": [
    "<h1>PySpark</h1>"
   ]
  },
  {
   "cell_type": "markdown",
   "id": "4776c8bf-2ab8-4778-a4e1-94f1673fece6",
   "metadata": {},
   "source": [
    "<h2>Imports</h2>"
   ]
  },
  {
   "cell_type": "code",
   "execution_count": 2,
   "id": "fe772186-2e89-4cf4-9786-e3110b8820ca",
   "metadata": {},
   "outputs": [],
   "source": [
    "import pyspark"
   ]
  },
  {
   "cell_type": "code",
   "execution_count": null,
   "id": "b181e8d7-a7f1-45ad-934e-f3aa0b5b0ff4",
   "metadata": {},
   "outputs": [],
   "source": []
  }
 ],
 "metadata": {
  "kernelspec": {
   "display_name": "Python 3 (ipykernel)",
   "language": "python",
   "name": "python3"
  },
  "language_info": {
   "codemirror_mode": {
    "name": "ipython",
    "version": 3
   },
   "file_extension": ".py",
   "mimetype": "text/x-python",
   "name": "python",
   "nbconvert_exporter": "python",
   "pygments_lexer": "ipython3",
   "version": "3.9.13"
  }
 },
 "nbformat": 4,
 "nbformat_minor": 5
}
