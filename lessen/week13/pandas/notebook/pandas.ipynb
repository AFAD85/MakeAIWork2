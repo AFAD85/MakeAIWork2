{
 "cells": [
  {
   "cell_type": "markdown",
   "id": "b45dd50e-d75c-41d2-a549-110cc111e32b",
   "metadata": {},
   "source": [
    "<a href=\"https://it-omscholing.nl/locaties/hogeschool-rotterdam/\">\n",
    "<div>\n",
    "<a><img src='pics/banner.PNG'/></a>\n",
    "</div>\n",
    "<div>\n",
    "<a href=''><img src='pics/miw.PNG'/></a>\n",
    "<em>Author: Jeroen Boogaard</em>\n",
    "</div>\n",
    "</a>"
   ]
  },
  {
   "cell_type": "markdown",
   "id": "63f0720b-4a62-479d-873b-c5f6cad9a89d",
   "metadata": {},
   "source": [
    "<h1>Pandas</h1>"
   ]
  },
  {
   "cell_type": "markdown",
   "id": "3619d610-30b3-41a2-b5f0-ae37b9d5b105",
   "metadata": {},
   "source": [
    "<h2>Imports</h2>"
   ]
  },
  {
   "cell_type": "code",
   "execution_count": null,
   "id": "05407e0b-deaa-441c-b6da-de4c03f4fd6e",
   "metadata": {},
   "outputs": [],
   "source": [
    "# enable yes to all in current env\n",
    "!pip install csv23 ipywidgets matplotlib numpy pandas"
   ]
  },
  {
   "cell_type": "code",
   "execution_count": null,
   "id": "42257a05-c794-4121-a9cf-fe53fa3a1dc1",
   "metadata": {},
   "outputs": [],
   "source": [
    "from csv import reader\n",
    "from csv import writer\n",
    "from ipywidgets import interact\n",
    "import matplotlib.pyplot as plt\n",
    "import numpy as np\n",
    "import pandas as pd"
   ]
  },
  {
   "cell_type": "markdown",
   "id": "8e48110a-ff83-4fba-aab9-7cb3678fe668",
   "metadata": {},
   "source": [
    "<h2>Opdracht 2</h2>"
   ]
  },
  {
   "cell_type": "markdown",
   "id": "47ac5b87-14b1-437e-91cb-93dadadef8f9",
   "metadata": {},
   "source": [
    "<h3>Gegeven</h3>"
   ]
  },
  {
   "cell_type": "markdown",
   "id": "8605ba6e-3f4e-4fe1-b76f-c784f2f44735",
   "metadata": {},
   "source": [
    "Planet | DistanceToSun | Type\n",
    "--|--|--\n",
    "Earth| 1 | Terrestrial\n",
    "Jupiter | 5.203 | Jovian\n",
    "Mars | 1.524 | Terrestrial\n",
    "Mercury | 0.39 | Terrestrial\n",
    "Neptune | 30.06 | Jovian\n",
    "Saturn | 9.54 | Jovian\n",
    "Uranus | 19.18 | Jovian\n",
    "Venus | 0.723 | Terrestrial"
   ]
  },
  {
   "cell_type": "code",
   "execution_count": null,
   "id": "519ca4fe-dfa5-410c-8dd4-9b4dec91675c",
   "metadata": {},
   "outputs": [],
   "source": [
    "csvFilename = \"csv/planets.csv\""
   ]
  },
  {
   "cell_type": "markdown",
   "id": "ad98fa30-0e0a-4ec4-9930-b63db74c11f2",
   "metadata": {},
   "source": [
    "<h3>Gevraagd</h3>\n",
    "<p>\n",
    "Bepaal aan de hand van een <i>Scatterplot</i> met welke twee eigenschappen aardse planeten te onderscheiden zijn van gasreuzen.   \n",
    "</p>"
   ]
  },
  {
   "cell_type": "markdown",
   "id": "c0c854fb-54db-4baa-b149-2e7d0c1b6391",
   "metadata": {},
   "source": [
    "<h3>Oplossing</h3>\n",
    "<ol>\n",
    "    <li>\n",
    "        <strong>Importeer planets.csv naar een <i>Numpy Dataframe</i> en sorteer de data op <u>naam</u></strong>\n",
    "    </li>\n",
    "    <li>\n",
    "        <strong>Voeg voor elke planeet de eigenschap <i>DistanceToSun</i> en <i>PlanetType</i> toe in een extra kolom met de corresponderende waarde uit bovenstaande tabel</strong>\n",
    "    </li>\n",
    "    <li>\n",
    "        <strong>Open het verrijkte csv-bestand en maak <u>FeatureLists</u> en een <u>LabelList</u> van <u>PlanetType</u></strong>\n",
    "    </li>       \n",
    "    <li>\n",
    "        <strong>Combineer twee <u>FeatureLists</u> naar keuze met de <u>LabelList</u> in een <u>FeatureDataFrame</u></strong>\n",
    "    </li>       \n",
    "    <li>\n",
    "        <strong>Maak <u>featureGroups</u> door te groeperen op <u>PlanetType</u></strong>\n",
    "    </li>\n",
    "</ol>    "
   ]
  },
  {
   "cell_type": "markdown",
   "id": "b2a7b7fb-56b3-43f7-a6b5-34adc057c3d1",
   "metadata": {},
   "source": [
    "**Stap 1: Importeer planets.csv naar een <i>Numpy Dataframe</i> en sorteer de data op <u>naam</u>**"
   ]
  },
  {
   "cell_type": "code",
   "execution_count": null,
   "id": "8c1b317f-55d6-4765-a6b5-7941f0d4bb89",
   "metadata": {},
   "outputs": [],
   "source": [
    "# Oplossing"
   ]
  },
  {
   "cell_type": "markdown",
   "id": "cb173657-2bc3-4d22-b911-b0dc766e040e",
   "metadata": {},
   "source": [
    "**Stap 2: Voeg voor elke planeet de eigenschap <i>DistanceToSun</i> en <i>Type</i> toe in een extra kolom met de corresponderende waarde uit bovenstaande tabel**"
   ]
  },
  {
   "cell_type": "code",
   "execution_count": null,
   "id": "19d519ed-4ad1-4598-aed0-4ccbc8e0bb7c",
   "metadata": {},
   "outputs": [],
   "source": [
    "# Oplossing"
   ]
  },
  {
   "cell_type": "markdown",
   "id": "84d8574f-1fa9-45e3-89f8-85fb01e22e96",
   "metadata": {},
   "source": [
    "**Stap 3: Open het verrijkte csv-bestand en maak <u>FeatureLists</u> en een <u>LabelList</u> van <u>PlanetType</u>**"
   ]
  },
  {
   "cell_type": "code",
   "execution_count": null,
   "id": "09d9333e-3c8a-4684-a434-424863c4adbf",
   "metadata": {},
   "outputs": [],
   "source": [
    "# Oplossing"
   ]
  },
  {
   "cell_type": "markdown",
   "id": "fc3058a2-9483-4034-841c-158b566f775e",
   "metadata": {},
   "source": [
    "**Stap 4: Combineer twee <u>FeatureLists</u> naar keuze met de <u>LabelList</u> in een <u>FeatureDataFrame</u>**"
   ]
  },
  {
   "cell_type": "code",
   "execution_count": null,
   "id": "71f968a5-fb1c-4760-a2ed-2951726e10d6",
   "metadata": {},
   "outputs": [],
   "source": [
    "# Oplossing"
   ]
  },
  {
   "cell_type": "markdown",
   "id": "d66c01ff-5c94-43a1-bda0-a83d5a9589c6",
   "metadata": {},
   "source": [
    "**Stap 5: Maak <u>featureGroups</u> door te groeperen op <u>PlanetType</u>**"
   ]
  },
  {
   "cell_type": "code",
   "execution_count": null,
   "id": "ea2aae21-5fd2-4633-be2a-1616d52a9940",
   "metadata": {},
   "outputs": [],
   "source": [
    "# Oplossing"
   ]
  }
 ],
 "metadata": {
  "kernelspec": {
   "display_name": "Python 3 (ipykernel)",
   "language": "python",
   "name": "python3"
  },
  "language_info": {
   "codemirror_mode": {
    "name": "ipython",
    "version": 3
   },
   "file_extension": ".py",
   "mimetype": "text/x-python",
   "name": "python",
   "nbconvert_exporter": "python",
   "pygments_lexer": "ipython3",
   "version": "3.9.13"
  }
 },
 "nbformat": 4,
 "nbformat_minor": 5
}
